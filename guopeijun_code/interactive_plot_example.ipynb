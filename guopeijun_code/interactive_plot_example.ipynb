{
 "cells": [
  {
   "cell_type": "markdown",
   "metadata": {},
   "source": [
    "## Load libraries"
   ]
  },
  {
   "cell_type": "code",
   "execution_count": 1,
   "metadata": {
    "ExecuteTime": {
     "end_time": "2018-10-25T22:13:39.152526Z",
     "start_time": "2018-10-25T22:13:37.503680Z"
    }
   },
   "outputs": [],
   "source": [
    "import pandas as pd\n",
    "import lightgbm as lgb\n",
    "\n",
    "import matplotlib.pyplot as plt\n",
    "\n",
    "%matplotlib inline\n",
    "\n",
    "try:\n",
    "    # To enable interactive mode you should install ipywidgets\n",
    "    # https://github.com/jupyter-widgets/ipywidgets\n",
    "    from ipywidgets import interact, SelectMultiple\n",
    "    INTERACTIVE = True\n",
    "except ImportError:\n",
    "    INTERACTIVE = False"
   ]
  },
  {
   "cell_type": "markdown",
   "metadata": {},
   "source": [
    "## Load data"
   ]
  },
  {
   "cell_type": "code",
   "execution_count": 2,
   "metadata": {
    "ExecuteTime": {
     "end_time": "2018-10-25T22:13:39.238695Z",
     "start_time": "2018-10-25T22:13:39.160165Z"
    }
   },
   "outputs": [],
   "source": [
    "df_train = pd.read_csv('D:/ruanjian/streetview/Image Segmentation/PSPNet-tensorflow-master/CODE/LightGBM-master/examples/regression/regression.train', header=None, sep='\\t')\n",
    "df_test = pd.read_csv('D:/ruanjian/streetview/Image Segmentation/PSPNet-tensorflow-master/CODE/LightGBM-master/examples/regression/regression.test', header=None, sep='\\t')\n",
    "\n",
    "y_train = df_train[0]\n",
    "y_test = df_test[0]\n",
    "X_train = df_train.drop(0, axis=1)\n",
    "X_test = df_test.drop(0, axis=1)"
   ]
  },
  {
   "cell_type": "markdown",
   "metadata": {},
   "source": [
    "## Create Dataset object for LightGBM"
   ]
  },
  {
   "cell_type": "code",
   "execution_count": 3,
   "metadata": {},
   "outputs": [],
   "source": [
    "lgb_train = lgb.Dataset(X_train, y_train)\n",
    "lgb_test = lgb.Dataset(X_test, y_test, reference=lgb_train)"
   ]
  },
  {
   "cell_type": "markdown",
   "metadata": {},
   "source": [
    "## Configuration dictionary"
   ]
  },
  {
   "cell_type": "code",
   "execution_count": 4,
   "metadata": {
    "ExecuteTime": {
     "end_time": "2018-10-25T22:13:39.243104Z",
     "start_time": "2018-10-25T22:13:39.240578Z"
    }
   },
   "outputs": [],
   "source": [
    "params = {\n",
    "    'num_leaves': 5,\n",
    "    'metric': ['l1', 'l2'],\n",
    "    'verbose': -1\n",
    "}"
   ]
  },
  {
   "cell_type": "markdown",
   "metadata": {},
   "source": [
    "## Training"
   ]
  },
  {
   "cell_type": "code",
   "execution_count": 5,
   "metadata": {
    "ExecuteTime": {
     "end_time": "2018-10-25T22:13:39.336630Z",
     "start_time": "2018-10-25T22:13:39.246006Z"
    }
   },
   "outputs": [
    {
     "name": "stderr",
     "output_type": "stream",
     "text": [
      "D:\\ruanjian\\anconda\\1\\lib\\site-packages\\lightgbm\\basic.py:1295: UserWarning: categorical_feature in Dataset is overridden.\n",
      "New categorical_feature is [21]\n",
      "  'New categorical_feature is {}'.format(sorted(list(categorical_feature))))\n"
     ]
    },
    {
     "name": "stdout",
     "output_type": "stream",
     "text": [
      "[10]\ttraining's l1: 0.457448\ttraining's l2: 0.217995\tvalid_1's l1: 0.456464\tvalid_1's l2: 0.21641\n",
      "[20]\ttraining's l1: 0.436869\ttraining's l2: 0.205099\tvalid_1's l1: 0.434057\tvalid_1's l2: 0.201616\n",
      "[30]\ttraining's l1: 0.421302\ttraining's l2: 0.197421\tvalid_1's l1: 0.417019\tvalid_1's l2: 0.192514\n",
      "[40]\ttraining's l1: 0.411107\ttraining's l2: 0.192856\tvalid_1's l1: 0.406303\tvalid_1's l2: 0.187258\n",
      "[50]\ttraining's l1: 0.403695\ttraining's l2: 0.189593\tvalid_1's l1: 0.398997\tvalid_1's l2: 0.183688\n",
      "[60]\ttraining's l1: 0.398704\ttraining's l2: 0.187043\tvalid_1's l1: 0.393977\tvalid_1's l2: 0.181009\n",
      "[70]\ttraining's l1: 0.394876\ttraining's l2: 0.184982\tvalid_1's l1: 0.389805\tvalid_1's l2: 0.178803\n",
      "[80]\ttraining's l1: 0.391147\ttraining's l2: 0.1828\tvalid_1's l1: 0.386476\tvalid_1's l2: 0.176799\n",
      "[90]\ttraining's l1: 0.388101\ttraining's l2: 0.180817\tvalid_1's l1: 0.384404\tvalid_1's l2: 0.175775\n",
      "[100]\ttraining's l1: 0.385174\ttraining's l2: 0.179171\tvalid_1's l1: 0.382929\tvalid_1's l2: 0.175321\n",
      "[110]\ttraining's l1: 0.382642\ttraining's l2: 0.177558\tvalid_1's l1: 0.381498\tvalid_1's l2: 0.17469\n",
      "[120]\ttraining's l1: 0.380044\ttraining's l2: 0.175954\tvalid_1's l1: 0.380065\tvalid_1's l2: 0.17418\n",
      "[130]\ttraining's l1: 0.377656\ttraining's l2: 0.174506\tvalid_1's l1: 0.378841\tvalid_1's l2: 0.173845\n",
      "[140]\ttraining's l1: 0.375798\ttraining's l2: 0.173188\tvalid_1's l1: 0.378353\tvalid_1's l2: 0.17365\n",
      "[150]\ttraining's l1: 0.3733\ttraining's l2: 0.171775\tvalid_1's l1: 0.376067\tvalid_1's l2: 0.172361\n",
      "[160]\ttraining's l1: 0.371162\ttraining's l2: 0.170369\tvalid_1's l1: 0.375355\tvalid_1's l2: 0.171997\n",
      "[170]\ttraining's l1: 0.369549\ttraining's l2: 0.169268\tvalid_1's l1: 0.374495\tvalid_1's l2: 0.171509\n",
      "[180]\ttraining's l1: 0.367707\ttraining's l2: 0.167947\tvalid_1's l1: 0.373794\tvalid_1's l2: 0.171158\n",
      "[190]\ttraining's l1: 0.366266\ttraining's l2: 0.166808\tvalid_1's l1: 0.373474\tvalid_1's l2: 0.17105\n",
      "[200]\ttraining's l1: 0.364547\ttraining's l2: 0.165645\tvalid_1's l1: 0.372845\tvalid_1's l2: 0.170948\n",
      "[210]\ttraining's l1: 0.363144\ttraining's l2: 0.164591\tvalid_1's l1: 0.371909\tvalid_1's l2: 0.170689\n",
      "[220]\ttraining's l1: 0.36144\ttraining's l2: 0.163446\tvalid_1's l1: 0.371364\tvalid_1's l2: 0.170446\n",
      "[230]\ttraining's l1: 0.359727\ttraining's l2: 0.162274\tvalid_1's l1: 0.370276\tvalid_1's l2: 0.16959\n",
      "[240]\ttraining's l1: 0.358348\ttraining's l2: 0.161226\tvalid_1's l1: 0.370417\tvalid_1's l2: 0.169977\n",
      "[250]\ttraining's l1: 0.356697\ttraining's l2: 0.160248\tvalid_1's l1: 0.369476\tvalid_1's l2: 0.16965\n",
      "[260]\ttraining's l1: 0.355195\ttraining's l2: 0.159103\tvalid_1's l1: 0.369407\tvalid_1's l2: 0.169864\n",
      "[270]\ttraining's l1: 0.353732\ttraining's l2: 0.15807\tvalid_1's l1: 0.369167\tvalid_1's l2: 0.169721\n",
      "[280]\ttraining's l1: 0.352395\ttraining's l2: 0.15713\tvalid_1's l1: 0.368846\tvalid_1's l2: 0.169687\n",
      "[290]\ttraining's l1: 0.350967\ttraining's l2: 0.156157\tvalid_1's l1: 0.368634\tvalid_1's l2: 0.169735\n",
      "[300]\ttraining's l1: 0.349701\ttraining's l2: 0.155198\tvalid_1's l1: 0.368472\tvalid_1's l2: 0.169696\n",
      "[310]\ttraining's l1: 0.348171\ttraining's l2: 0.154258\tvalid_1's l1: 0.367677\tvalid_1's l2: 0.169543\n",
      "[320]\ttraining's l1: 0.346675\ttraining's l2: 0.153179\tvalid_1's l1: 0.367913\tvalid_1's l2: 0.169862\n",
      "[330]\ttraining's l1: 0.345385\ttraining's l2: 0.152253\tvalid_1's l1: 0.368018\tvalid_1's l2: 0.170158\n",
      "[340]\ttraining's l1: 0.344103\ttraining's l2: 0.151303\tvalid_1's l1: 0.367733\tvalid_1's l2: 0.169864\n",
      "[350]\ttraining's l1: 0.342754\ttraining's l2: 0.150418\tvalid_1's l1: 0.36723\tvalid_1's l2: 0.169814\n",
      "[360]\ttraining's l1: 0.341081\ttraining's l2: 0.14947\tvalid_1's l1: 0.366712\tvalid_1's l2: 0.169755\n",
      "[370]\ttraining's l1: 0.339767\ttraining's l2: 0.148492\tvalid_1's l1: 0.365952\tvalid_1's l2: 0.169192\n",
      "[380]\ttraining's l1: 0.338524\ttraining's l2: 0.14759\tvalid_1's l1: 0.366117\tvalid_1's l2: 0.169423\n",
      "[390]\ttraining's l1: 0.337357\ttraining's l2: 0.146783\tvalid_1's l1: 0.365918\tvalid_1's l2: 0.169201\n",
      "[400]\ttraining's l1: 0.336278\ttraining's l2: 0.145931\tvalid_1's l1: 0.366044\tvalid_1's l2: 0.169412\n",
      "[410]\ttraining's l1: 0.334993\ttraining's l2: 0.14498\tvalid_1's l1: 0.365454\tvalid_1's l2: 0.168972\n",
      "[420]\ttraining's l1: 0.333446\ttraining's l2: 0.144051\tvalid_1's l1: 0.365164\tvalid_1's l2: 0.169172\n",
      "[430]\ttraining's l1: 0.332329\ttraining's l2: 0.143198\tvalid_1's l1: 0.364861\tvalid_1's l2: 0.169022\n",
      "[440]\ttraining's l1: 0.331052\ttraining's l2: 0.142257\tvalid_1's l1: 0.364956\tvalid_1's l2: 0.169153\n",
      "[450]\ttraining's l1: 0.32999\ttraining's l2: 0.141452\tvalid_1's l1: 0.364883\tvalid_1's l2: 0.169055\n",
      "[460]\ttraining's l1: 0.329103\ttraining's l2: 0.140745\tvalid_1's l1: 0.364922\tvalid_1's l2: 0.169245\n",
      "[470]\ttraining's l1: 0.327916\ttraining's l2: 0.139937\tvalid_1's l1: 0.365124\tvalid_1's l2: 0.169654\n",
      "[480]\ttraining's l1: 0.326835\ttraining's l2: 0.139127\tvalid_1's l1: 0.36532\tvalid_1's l2: 0.170058\n",
      "[490]\ttraining's l1: 0.325697\ttraining's l2: 0.138357\tvalid_1's l1: 0.365487\tvalid_1's l2: 0.170297\n",
      "[500]\ttraining's l1: 0.324582\ttraining's l2: 0.137538\tvalid_1's l1: 0.36499\tvalid_1's l2: 0.170105\n"
     ]
    }
   ],
   "source": [
    "evals_result = {}  # to record eval results for plotting\n",
    "gbm = lgb.train(params,\n",
    "                lgb_train,\n",
    "                num_boost_round=500,\n",
    "                valid_sets=[lgb_train, lgb_test],\n",
    "                feature_name=['f' + str(i + 1) for i in range(X_train.shape[-1])],\n",
    "                categorical_feature=[21],\n",
    "                evals_result=evals_result,\n",
    "                verbose_eval=10)"
   ]
  },
  {
   "cell_type": "markdown",
   "metadata": {},
   "source": [
    "## Plot metrics recorded during training"
   ]
  },
  {
   "cell_type": "code",
   "execution_count": 6,
   "metadata": {
    "ExecuteTime": {
     "end_time": "2018-10-25T22:13:39.809203Z",
     "start_time": "2018-10-25T22:13:39.338985Z"
    }
   },
   "outputs": [],
   "source": [
    "def render_metric(metric_name):\n",
    "    ax = lgb.plot_metric(evals_result, metric=metric_name, figsize=(10, 5))\n",
    "    plt.show()"
   ]
  },
  {
   "cell_type": "code",
   "execution_count": 7,
   "metadata": {},
   "outputs": [
    {
     "data": {
      "application/vnd.jupyter.widget-view+json": {
       "model_id": "b17cf33be2c047b299de97954eca5f24",
       "version_major": 2,
       "version_minor": 0
      },
      "text/plain": [
       "interactive(children=(Dropdown(description='metric_name', options=('l1', 'l2'), value='l1'), Output()), _dom_c…"
      ]
     },
     "metadata": {},
     "output_type": "display_data"
    }
   ],
   "source": [
    "if INTERACTIVE:\n",
    "    # create widget to switch between metrics\n",
    "    interact(render_metric, metric_name=params['metric'])\n",
    "else:\n",
    "    render_metric(params['metric'][0])"
   ]
  },
  {
   "cell_type": "markdown",
   "metadata": {},
   "source": [
    "## Plot feature importances"
   ]
  },
  {
   "cell_type": "code",
   "execution_count": 8,
   "metadata": {
    "ExecuteTime": {
     "end_time": "2018-10-25T22:13:39.958548Z",
     "start_time": "2018-10-25T22:13:39.811530Z"
    }
   },
   "outputs": [],
   "source": [
    "def render_plot_importance(importance_type, max_features=10,\n",
    "                           ignore_zero=True, precision=3):\n",
    "    ax = lgb.plot_importance(gbm, importance_type=importance_type,\n",
    "                             max_num_features=max_features,\n",
    "                             ignore_zero=ignore_zero, figsize=(12, 8),\n",
    "                             precision=precision)\n",
    "    plt.show()"
   ]
  },
  {
   "cell_type": "code",
   "execution_count": 9,
   "metadata": {},
   "outputs": [
    {
     "data": {
      "application/vnd.jupyter.widget-view+json": {
       "model_id": "e3c8afd59c9e403b8dd4d0ef470f3f7e",
       "version_major": 2,
       "version_minor": 0
      },
      "text/plain": [
       "interactive(children=(Dropdown(description='importance_type', options=('split', 'gain'), value='split'), IntSl…"
      ]
     },
     "metadata": {},
     "output_type": "display_data"
    }
   ],
   "source": [
    "if INTERACTIVE:\n",
    "    # create widget for interactive feature importance plot\n",
    "    interact(render_plot_importance,\n",
    "             importance_type=['split', 'gain'],\n",
    "             max_features=(1, X_train.shape[-1]),\n",
    "             precision=(0, 10))\n",
    "else:\n",
    "    render_plot_importance(importance_type='split')"
   ]
  },
  {
   "cell_type": "markdown",
   "metadata": {},
   "source": [
    "## Plot split value histogram"
   ]
  },
  {
   "cell_type": "code",
   "execution_count": 10,
   "metadata": {},
   "outputs": [],
   "source": [
    "def render_histogram(feature):\n",
    "    ax = lgb.plot_split_value_histogram(gbm, feature=feature,\n",
    "                                        bins='auto', figsize=(10, 5))\n",
    "    plt.show()"
   ]
  },
  {
   "cell_type": "code",
   "execution_count": 11,
   "metadata": {
    "scrolled": true
   },
   "outputs": [
    {
     "data": {
      "application/vnd.jupyter.widget-view+json": {
       "model_id": "2a0dc289bb82427abdf6cb7bbca39eaa",
       "version_major": 2,
       "version_minor": 0
      },
      "text/plain": [
       "interactive(children=(Dropdown(description='feature', options=('f1', 'f2', 'f3', 'f4', 'f5', 'f6', 'f7', 'f8',…"
      ]
     },
     "metadata": {},
     "output_type": "display_data"
    }
   ],
   "source": [
    "if INTERACTIVE:\n",
    "    # create widget for interactive split value histogram\n",
    "    interact(render_histogram,\n",
    "             feature=gbm.feature_name())\n",
    "else:\n",
    "    render_histogram(feature='f26')"
   ]
  },
  {
   "cell_type": "markdown",
   "metadata": {
    "ExecuteTime": {
     "end_time": "2018-10-25T22:13:40.027803Z",
     "start_time": "2018-10-25T22:13:39.960713Z"
    }
   },
   "source": [
    "## Plot trees"
   ]
  },
  {
   "cell_type": "code",
   "execution_count": 12,
   "metadata": {},
   "outputs": [],
   "source": [
    "def render_tree(tree_index, show_info, precision=3):\n",
    "    show_info = None if 'None' in show_info else show_info\n",
    "    return lgb.create_tree_digraph(gbm, tree_index=tree_index,\n",
    "                                   show_info=show_info, precision=precision)"
   ]
  },
  {
   "cell_type": "code",
   "execution_count": 13,
   "metadata": {
    "scrolled": true
   },
   "outputs": [
    {
     "data": {
      "application/vnd.jupyter.widget-view+json": {
       "model_id": "9ee655fbfa624a19b601fb66cce6dc12",
       "version_major": 2,
       "version_minor": 0
      },
      "text/plain": [
       "interactive(children=(IntSlider(value=249, description='tree_index', max=499), SelectMultiple(description='sho…"
      ]
     },
     "metadata": {},
     "output_type": "display_data"
    }
   ],
   "source": [
    "\n",
    "if INTERACTIVE:\n",
    "    # create widget to switch between trees and control info in nodes\n",
    "    interact(render_tree,\n",
    "             tree_index=(0, gbm.num_trees() - 1),\n",
    "             show_info=SelectMultiple(  # allow multiple values to be selected\n",
    "                 options=['None',\n",
    "                          'split_gain',\n",
    "                          'internal_value',\n",
    "                          'internal_count',\n",
    "                          'internal_weight',\n",
    "                          'leaf_count',\n",
    "                          'leaf_weight',\n",
    "                          'data_percentage'],\n",
    "                 value=['None']),\n",
    "             precision=(0, 10))\n",
    "    tree = None\n",
    "else:\n",
    "    tree = render_tree(53, ['None'])\n",
    "tree"
   ]
  }
 ],
 "metadata": {
  "hide_input": false,
  "kernelspec": {
   "display_name": "Python 3",
   "language": "python",
   "name": "python3"
  },
  "language_info": {
   "codemirror_mode": {
    "name": "ipython",
    "version": 3
   },
   "file_extension": ".py",
   "mimetype": "text/x-python",
   "name": "python",
   "nbconvert_exporter": "python",
   "pygments_lexer": "ipython3",
   "version": "3.7.3"
  },
  "varInspector": {
   "cols": {
    "lenName": 16,
    "lenType": 16,
    "lenVar": 40
   },
   "kernels_config": {
    "python": {
     "delete_cmd_postfix": "",
     "delete_cmd_prefix": "del ",
     "library": "var_list.py",
     "varRefreshCmd": "print(var_dic_list())"
    },
    "r": {
     "delete_cmd_postfix": ") ",
     "delete_cmd_prefix": "rm(",
     "library": "var_list.r",
     "varRefreshCmd": "cat(var_dic_list()) "
    }
   },
   "types_to_exclude": [
    "module",
    "function",
    "builtin_function_or_method",
    "instance",
    "_Feature"
   ],
   "window_display": false
  },
  "widgets": {
   "application/vnd.jupyter.widget-state+json": {
    "state": {
     "019d2623b8bc4f31afb0475470e07a24": {
      "model_module": "@jupyter-widgets/controls",
      "model_module_version": "1.4.0",
      "model_name": "DescriptionStyleModel",
      "state": {
       "description_width": ""
      }
     },
     "0361c6c7a6d34b04b2fa6c5ca59fd1ea": {
      "model_module": "@jupyter-widgets/base",
      "model_module_version": "1.1.0",
      "model_name": "LayoutModel",
      "state": {}
     },
     "068add7a23cc4694bee6a111bf543699": {
      "model_module": "@jupyter-widgets/controls",
      "model_module_version": "1.4.0",
      "model_name": "VBoxModel",
      "state": {
       "_dom_classes": [
        "widget-interact"
       ],
       "children": [
        "IPY_MODEL_9c745b4dc4b246a38ca10095b520eb7a",
        "IPY_MODEL_6119664f5f544ca29bc5ded4ffd2f201"
       ],
       "layout": "IPY_MODEL_5b452a5b51cb4dd89fd786f2a3227acd"
      }
     },
     "0ae95f6459474600a30110abfd608049": {
      "model_module": "@jupyter-widgets/controls",
      "model_module_version": "1.4.0",
      "model_name": "SliderStyleModel",
      "state": {
       "description_width": ""
      }
     },
     "108b069b95424eeeb970028f84f09939": {
      "model_module": "@jupyter-widgets/controls",
      "model_module_version": "1.4.0",
      "model_name": "IntSliderModel",
      "state": {
       "description": "precision",
       "layout": "IPY_MODEL_b269cebecf2c464f9ccb496e83918901",
       "max": 10,
       "style": "IPY_MODEL_188917261de342e3a1303fe8cb42cf35",
       "value": 3
      }
     },
     "110111966e8349a5a928f769d4df343f": {
      "model_module": "@jupyter-widgets/controls",
      "model_module_version": "1.4.0",
      "model_name": "SliderStyleModel",
      "state": {
       "description_width": ""
      }
     },
     "14fc41730e594e89a93fd91706daef87": {
      "model_module": "@jupyter-widgets/base",
      "model_module_version": "1.1.0",
      "model_name": "LayoutModel",
      "state": {}
     },
     "1574545d487245ef9861e4304e973600": {
      "model_module": "@jupyter-widgets/base",
      "model_module_version": "1.1.0",
      "model_name": "LayoutModel",
      "state": {}
     },
     "188917261de342e3a1303fe8cb42cf35": {
      "model_module": "@jupyter-widgets/controls",
      "model_module_version": "1.4.0",
      "model_name": "SliderStyleModel",
      "state": {
       "description_width": ""
      }
     },
     "1b89d7326f5f4d0f8a4c1c223addfcd2": {
      "model_module": "@jupyter-widgets/base",
      "model_module_version": "1.1.0",
      "model_name": "LayoutModel",
      "state": {}
     },
     "1bf3080f64fb4fa99ff1d3259cabfd0d": {
      "model_module": "@jupyter-widgets/base",
      "model_module_version": "1.1.0",
      "model_name": "LayoutModel",
      "state": {}
     },
     "1c5b9c3728094cea98c05573a68c38be": {
      "model_module": "@jupyter-widgets/controls",
      "model_module_version": "1.4.0",
      "model_name": "DropdownModel",
      "state": {
       "_options_labels": [
        "split",
        "gain"
       ],
       "description": "importance_type",
       "index": 0,
       "layout": "IPY_MODEL_91836f80a1b9436eaf37bda2d4046572",
       "style": "IPY_MODEL_c135679ad0414b53bb0b8ae121f9ff1c"
      }
     },
     "22ab065346ce4539903d0297916e86c1": {
      "model_module": "@jupyter-widgets/controls",
      "model_module_version": "1.4.0",
      "model_name": "SliderStyleModel",
      "state": {
       "description_width": ""
      }
     },
     "23d893552767448b9a2e22d7b398e1bb": {
      "model_module": "@jupyter-widgets/controls",
      "model_module_version": "1.4.0",
      "model_name": "DropdownModel",
      "state": {
       "_options_labels": [
        "f1",
        "f2",
        "f3",
        "f4",
        "f5",
        "f6",
        "f7",
        "f8",
        "f9",
        "f10",
        "f11",
        "f12",
        "f13",
        "f14",
        "f15",
        "f16",
        "f17",
        "f18",
        "f19",
        "f20",
        "f21",
        "f22",
        "f23",
        "f24",
        "f25",
        "f26",
        "f27",
        "f28"
       ],
       "description": "feature",
       "index": 0,
       "layout": "IPY_MODEL_3d84058cb090410eab66958cbb03dea7",
       "style": "IPY_MODEL_38b92e4c45764c618a61f37ac2b87cfa"
      }
     },
     "250ff33275a2457d9d4601423fa6a272": {
      "model_module": "@jupyter-widgets/base",
      "model_module_version": "1.1.0",
      "model_name": "LayoutModel",
      "state": {}
     },
     "25f5ad4c24424a4091f29da706e7c856": {
      "model_module": "@jupyter-widgets/controls",
      "model_module_version": "1.4.0",
      "model_name": "DropdownModel",
      "state": {
       "_options_labels": [
        "l1",
        "l2"
       ],
       "description": "metric_name",
       "index": 0,
       "layout": "IPY_MODEL_7c2c0ed77d5944e181dee5e66cb51144",
       "style": "IPY_MODEL_e69be101aba84abd9bb5b049c3b833fa"
      }
     },
     "33f2966703f14550831793404c2eccbc": {
      "model_module": "@jupyter-widgets/base",
      "model_module_version": "1.1.0",
      "model_name": "LayoutModel",
      "state": {}
     },
     "36fab60997d444c494f815986497ac4f": {
      "model_module": "@jupyter-widgets/controls",
      "model_module_version": "1.4.0",
      "model_name": "DropdownModel",
      "state": {
       "_options_labels": [
        "split",
        "gain"
       ],
       "description": "importance_type",
       "index": 0,
       "layout": "IPY_MODEL_9f1604d2cea34af49282bcecc258ff3e",
       "style": "IPY_MODEL_c7b1cdbb6ed84015bd5809ac7a92ae2e"
      }
     },
     "38b92e4c45764c618a61f37ac2b87cfa": {
      "model_module": "@jupyter-widgets/controls",
      "model_module_version": "1.4.0",
      "model_name": "DescriptionStyleModel",
      "state": {
       "description_width": ""
      }
     },
     "3d84058cb090410eab66958cbb03dea7": {
      "model_module": "@jupyter-widgets/base",
      "model_module_version": "1.1.0",
      "model_name": "LayoutModel",
      "state": {}
     },
     "3df124d0341045509dc321711ab632bb": {
      "model_module": "@jupyter-widgets/output",
      "model_module_version": "1.0.0",
      "model_name": "OutputModel",
      "state": {
       "layout": "IPY_MODEL_540eeaa10e5747d3a1b9727e4713e1f1",
       "outputs": [
        {
         "ename": "ExecutableNotFound",
         "evalue": "failed to execute ['dot', '-Tsvg'], make sure the Graphviz executables are on your systems' PATH",
         "output_type": "error",
         "traceback": [
          "\u001b[1;31m---------------------------------------------------------------------------\u001b[0m",
          "\u001b[1;31mFileNotFoundError\u001b[0m                         Traceback (most recent call last)",
          "\u001b[1;32mD:\\ruanjian\\anconda\\1\\lib\\site-packages\\graphviz\\backend.py\u001b[0m in \u001b[0;36mrun\u001b[1;34m(cmd, input, capture_output, check, quiet, **kwargs)\u001b[0m\n\u001b[0;32m    158\u001b[0m     \u001b[1;32mtry\u001b[0m\u001b[1;33m:\u001b[0m\u001b[1;33m\u001b[0m\u001b[1;33m\u001b[0m\u001b[0m\n\u001b[1;32m--> 159\u001b[1;33m         \u001b[0mproc\u001b[0m \u001b[1;33m=\u001b[0m \u001b[0msubprocess\u001b[0m\u001b[1;33m.\u001b[0m\u001b[0mPopen\u001b[0m\u001b[1;33m(\u001b[0m\u001b[0mcmd\u001b[0m\u001b[1;33m,\u001b[0m \u001b[0mstartupinfo\u001b[0m\u001b[1;33m=\u001b[0m\u001b[0mget_startupinfo\u001b[0m\u001b[1;33m(\u001b[0m\u001b[1;33m)\u001b[0m\u001b[1;33m,\u001b[0m \u001b[1;33m**\u001b[0m\u001b[0mkwargs\u001b[0m\u001b[1;33m)\u001b[0m\u001b[1;33m\u001b[0m\u001b[1;33m\u001b[0m\u001b[0m\n\u001b[0m\u001b[0;32m    160\u001b[0m     \u001b[1;32mexcept\u001b[0m \u001b[0mOSError\u001b[0m \u001b[1;32mas\u001b[0m \u001b[0me\u001b[0m\u001b[1;33m:\u001b[0m\u001b[1;33m\u001b[0m\u001b[1;33m\u001b[0m\u001b[0m\n",
          "\u001b[1;32mD:\\ruanjian\\anconda\\1\\lib\\subprocess.py\u001b[0m in \u001b[0;36m__init__\u001b[1;34m(self, args, bufsize, executable, stdin, stdout, stderr, preexec_fn, close_fds, shell, cwd, env, universal_newlines, startupinfo, creationflags, restore_signals, start_new_session, pass_fds, encoding, errors, text)\u001b[0m\n\u001b[0;32m    774\u001b[0m                                 \u001b[0merrread\u001b[0m\u001b[1;33m,\u001b[0m \u001b[0merrwrite\u001b[0m\u001b[1;33m,\u001b[0m\u001b[1;33m\u001b[0m\u001b[1;33m\u001b[0m\u001b[0m\n\u001b[1;32m--> 775\u001b[1;33m                                 restore_signals, start_new_session)\n\u001b[0m\u001b[0;32m    776\u001b[0m         \u001b[1;32mexcept\u001b[0m\u001b[1;33m:\u001b[0m\u001b[1;33m\u001b[0m\u001b[1;33m\u001b[0m\u001b[0m\n",
          "\u001b[1;32mD:\\ruanjian\\anconda\\1\\lib\\subprocess.py\u001b[0m in \u001b[0;36m_execute_child\u001b[1;34m(self, args, executable, preexec_fn, close_fds, pass_fds, cwd, env, startupinfo, creationflags, shell, p2cread, p2cwrite, c2pread, c2pwrite, errread, errwrite, unused_restore_signals, unused_start_new_session)\u001b[0m\n\u001b[0;32m   1177\u001b[0m                                          \u001b[0mos\u001b[0m\u001b[1;33m.\u001b[0m\u001b[0mfspath\u001b[0m\u001b[1;33m(\u001b[0m\u001b[0mcwd\u001b[0m\u001b[1;33m)\u001b[0m \u001b[1;32mif\u001b[0m \u001b[0mcwd\u001b[0m \u001b[1;32mis\u001b[0m \u001b[1;32mnot\u001b[0m \u001b[1;32mNone\u001b[0m \u001b[1;32melse\u001b[0m \u001b[1;32mNone\u001b[0m\u001b[1;33m,\u001b[0m\u001b[1;33m\u001b[0m\u001b[1;33m\u001b[0m\u001b[0m\n\u001b[1;32m-> 1178\u001b[1;33m                                          startupinfo)\n\u001b[0m\u001b[0;32m   1179\u001b[0m             \u001b[1;32mfinally\u001b[0m\u001b[1;33m:\u001b[0m\u001b[1;33m\u001b[0m\u001b[1;33m\u001b[0m\u001b[0m\n",
          "\u001b[1;31mFileNotFoundError\u001b[0m: [WinError 2] 系统找不到指定的文件。",
          "\nDuring handling of the above exception, another exception occurred:\n",
          "\u001b[1;31mExecutableNotFound\u001b[0m                        Traceback (most recent call last)",
          "\u001b[1;32mD:\\ruanjian\\anconda\\1\\lib\\site-packages\\IPython\\core\\formatters.py\u001b[0m in \u001b[0;36m__call__\u001b[1;34m(self, obj)\u001b[0m\n\u001b[0;32m    343\u001b[0m             \u001b[0mmethod\u001b[0m \u001b[1;33m=\u001b[0m \u001b[0mget_real_method\u001b[0m\u001b[1;33m(\u001b[0m\u001b[0mobj\u001b[0m\u001b[1;33m,\u001b[0m \u001b[0mself\u001b[0m\u001b[1;33m.\u001b[0m\u001b[0mprint_method\u001b[0m\u001b[1;33m)\u001b[0m\u001b[1;33m\u001b[0m\u001b[1;33m\u001b[0m\u001b[0m\n\u001b[0;32m    344\u001b[0m             \u001b[1;32mif\u001b[0m \u001b[0mmethod\u001b[0m \u001b[1;32mis\u001b[0m \u001b[1;32mnot\u001b[0m \u001b[1;32mNone\u001b[0m\u001b[1;33m:\u001b[0m\u001b[1;33m\u001b[0m\u001b[1;33m\u001b[0m\u001b[0m\n\u001b[1;32m--> 345\u001b[1;33m                 \u001b[1;32mreturn\u001b[0m \u001b[0mmethod\u001b[0m\u001b[1;33m(\u001b[0m\u001b[1;33m)\u001b[0m\u001b[1;33m\u001b[0m\u001b[1;33m\u001b[0m\u001b[0m\n\u001b[0m\u001b[0;32m    346\u001b[0m             \u001b[1;32mreturn\u001b[0m \u001b[1;32mNone\u001b[0m\u001b[1;33m\u001b[0m\u001b[1;33m\u001b[0m\u001b[0m\n\u001b[0;32m    347\u001b[0m         \u001b[1;32melse\u001b[0m\u001b[1;33m:\u001b[0m\u001b[1;33m\u001b[0m\u001b[1;33m\u001b[0m\u001b[0m\n",
          "\u001b[1;32mD:\\ruanjian\\anconda\\1\\lib\\site-packages\\graphviz\\files.py\u001b[0m in \u001b[0;36m_repr_svg_\u001b[1;34m(self)\u001b[0m\n\u001b[0;32m    111\u001b[0m \u001b[1;33m\u001b[0m\u001b[0m\n\u001b[0;32m    112\u001b[0m     \u001b[1;32mdef\u001b[0m \u001b[0m_repr_svg_\u001b[0m\u001b[1;33m(\u001b[0m\u001b[0mself\u001b[0m\u001b[1;33m)\u001b[0m\u001b[1;33m:\u001b[0m\u001b[1;33m\u001b[0m\u001b[1;33m\u001b[0m\u001b[0m\n\u001b[1;32m--> 113\u001b[1;33m         \u001b[1;32mreturn\u001b[0m \u001b[0mself\u001b[0m\u001b[1;33m.\u001b[0m\u001b[0mpipe\u001b[0m\u001b[1;33m(\u001b[0m\u001b[0mformat\u001b[0m\u001b[1;33m=\u001b[0m\u001b[1;34m'svg'\u001b[0m\u001b[1;33m)\u001b[0m\u001b[1;33m.\u001b[0m\u001b[0mdecode\u001b[0m\u001b[1;33m(\u001b[0m\u001b[0mself\u001b[0m\u001b[1;33m.\u001b[0m\u001b[0m_encoding\u001b[0m\u001b[1;33m)\u001b[0m\u001b[1;33m\u001b[0m\u001b[1;33m\u001b[0m\u001b[0m\n\u001b[0m\u001b[0;32m    114\u001b[0m \u001b[1;33m\u001b[0m\u001b[0m\n\u001b[0;32m    115\u001b[0m     \u001b[1;32mdef\u001b[0m \u001b[0mpipe\u001b[0m\u001b[1;33m(\u001b[0m\u001b[0mself\u001b[0m\u001b[1;33m,\u001b[0m \u001b[0mformat\u001b[0m\u001b[1;33m=\u001b[0m\u001b[1;32mNone\u001b[0m\u001b[1;33m,\u001b[0m \u001b[0mrenderer\u001b[0m\u001b[1;33m=\u001b[0m\u001b[1;32mNone\u001b[0m\u001b[1;33m,\u001b[0m \u001b[0mformatter\u001b[0m\u001b[1;33m=\u001b[0m\u001b[1;32mNone\u001b[0m\u001b[1;33m,\u001b[0m \u001b[0mquiet\u001b[0m\u001b[1;33m=\u001b[0m\u001b[1;32mFalse\u001b[0m\u001b[1;33m)\u001b[0m\u001b[1;33m:\u001b[0m\u001b[1;33m\u001b[0m\u001b[1;33m\u001b[0m\u001b[0m\n",
          "\u001b[1;32mD:\\ruanjian\\anconda\\1\\lib\\site-packages\\graphviz\\files.py\u001b[0m in \u001b[0;36mpipe\u001b[1;34m(self, format, renderer, formatter, quiet)\u001b[0m\n\u001b[0;32m    136\u001b[0m         out = backend.pipe(self._engine, format, data,\n\u001b[0;32m    137\u001b[0m                            \u001b[0mrenderer\u001b[0m\u001b[1;33m=\u001b[0m\u001b[0mrenderer\u001b[0m\u001b[1;33m,\u001b[0m \u001b[0mformatter\u001b[0m\u001b[1;33m=\u001b[0m\u001b[0mformatter\u001b[0m\u001b[1;33m,\u001b[0m\u001b[1;33m\u001b[0m\u001b[1;33m\u001b[0m\u001b[0m\n\u001b[1;32m--> 138\u001b[1;33m                            quiet=quiet)\n\u001b[0m\u001b[0;32m    139\u001b[0m \u001b[1;33m\u001b[0m\u001b[0m\n\u001b[0;32m    140\u001b[0m         \u001b[1;32mreturn\u001b[0m \u001b[0mout\u001b[0m\u001b[1;33m\u001b[0m\u001b[1;33m\u001b[0m\u001b[0m\n",
          "\u001b[1;32mD:\\ruanjian\\anconda\\1\\lib\\site-packages\\graphviz\\backend.py\u001b[0m in \u001b[0;36mpipe\u001b[1;34m(engine, format, data, renderer, formatter, quiet)\u001b[0m\n\u001b[0;32m    227\u001b[0m     \"\"\"\n\u001b[0;32m    228\u001b[0m     \u001b[0mcmd\u001b[0m\u001b[1;33m,\u001b[0m \u001b[0m_\u001b[0m \u001b[1;33m=\u001b[0m \u001b[0mcommand\u001b[0m\u001b[1;33m(\u001b[0m\u001b[0mengine\u001b[0m\u001b[1;33m,\u001b[0m \u001b[0mformat\u001b[0m\u001b[1;33m,\u001b[0m \u001b[1;32mNone\u001b[0m\u001b[1;33m,\u001b[0m \u001b[0mrenderer\u001b[0m\u001b[1;33m,\u001b[0m \u001b[0mformatter\u001b[0m\u001b[1;33m)\u001b[0m\u001b[1;33m\u001b[0m\u001b[1;33m\u001b[0m\u001b[0m\n\u001b[1;32m--> 229\u001b[1;33m     \u001b[0mout\u001b[0m\u001b[1;33m,\u001b[0m \u001b[0m_\u001b[0m \u001b[1;33m=\u001b[0m \u001b[0mrun\u001b[0m\u001b[1;33m(\u001b[0m\u001b[0mcmd\u001b[0m\u001b[1;33m,\u001b[0m \u001b[0minput\u001b[0m\u001b[1;33m=\u001b[0m\u001b[0mdata\u001b[0m\u001b[1;33m,\u001b[0m \u001b[0mcapture_output\u001b[0m\u001b[1;33m=\u001b[0m\u001b[1;32mTrue\u001b[0m\u001b[1;33m,\u001b[0m \u001b[0mcheck\u001b[0m\u001b[1;33m=\u001b[0m\u001b[1;32mTrue\u001b[0m\u001b[1;33m,\u001b[0m \u001b[0mquiet\u001b[0m\u001b[1;33m=\u001b[0m\u001b[0mquiet\u001b[0m\u001b[1;33m)\u001b[0m\u001b[1;33m\u001b[0m\u001b[1;33m\u001b[0m\u001b[0m\n\u001b[0m\u001b[0;32m    230\u001b[0m     \u001b[1;32mreturn\u001b[0m \u001b[0mout\u001b[0m\u001b[1;33m\u001b[0m\u001b[1;33m\u001b[0m\u001b[0m\n\u001b[0;32m    231\u001b[0m \u001b[1;33m\u001b[0m\u001b[0m\n",
          "\u001b[1;32mD:\\ruanjian\\anconda\\1\\lib\\site-packages\\graphviz\\backend.py\u001b[0m in \u001b[0;36mrun\u001b[1;34m(cmd, input, capture_output, check, quiet, **kwargs)\u001b[0m\n\u001b[0;32m    160\u001b[0m     \u001b[1;32mexcept\u001b[0m \u001b[0mOSError\u001b[0m \u001b[1;32mas\u001b[0m \u001b[0me\u001b[0m\u001b[1;33m:\u001b[0m\u001b[1;33m\u001b[0m\u001b[1;33m\u001b[0m\u001b[0m\n\u001b[0;32m    161\u001b[0m         \u001b[1;32mif\u001b[0m \u001b[0me\u001b[0m\u001b[1;33m.\u001b[0m\u001b[0merrno\u001b[0m \u001b[1;33m==\u001b[0m \u001b[0merrno\u001b[0m\u001b[1;33m.\u001b[0m\u001b[0mENOENT\u001b[0m\u001b[1;33m:\u001b[0m\u001b[1;33m\u001b[0m\u001b[1;33m\u001b[0m\u001b[0m\n\u001b[1;32m--> 162\u001b[1;33m             \u001b[1;32mraise\u001b[0m \u001b[0mExecutableNotFound\u001b[0m\u001b[1;33m(\u001b[0m\u001b[0mcmd\u001b[0m\u001b[1;33m)\u001b[0m\u001b[1;33m\u001b[0m\u001b[1;33m\u001b[0m\u001b[0m\n\u001b[0m\u001b[0;32m    163\u001b[0m         \u001b[1;32melse\u001b[0m\u001b[1;33m:\u001b[0m\u001b[1;33m\u001b[0m\u001b[1;33m\u001b[0m\u001b[0m\n\u001b[0;32m    164\u001b[0m             \u001b[1;32mraise\u001b[0m\u001b[1;33m\u001b[0m\u001b[1;33m\u001b[0m\u001b[0m\n",
          "\u001b[1;31mExecutableNotFound\u001b[0m: failed to execute ['dot', '-Tsvg'], make sure the Graphviz executables are on your systems' PATH"
         ]
        },
        {
         "data": {
          "text/plain": "<graphviz.dot.Digraph at 0x199469c1c18>"
         },
         "metadata": {},
         "output_type": "display_data"
        }
       ]
      }
     },
     "3e0b78f3086e4bbcb5415340cb20b51c": {
      "model_module": "@jupyter-widgets/output",
      "model_module_version": "1.0.0",
      "model_name": "OutputModel",
      "state": {
       "layout": "IPY_MODEL_c82eac8c3c184320961df65f4d46932f",
       "outputs": [
        {
         "data": {
          "image/png": "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\n",
          "text/plain": "<Figure size 864x576 with 1 Axes>"
         },
         "metadata": {
          "needs_background": "light"
         },
         "output_type": "display_data"
        }
       ]
      }
     },
     "3e2c7aae077e4975ad29dc42c493e2f8": {
      "model_module": "@jupyter-widgets/controls",
      "model_module_version": "1.4.0",
      "model_name": "VBoxModel",
      "state": {
       "_dom_classes": [
        "widget-interact"
       ],
       "children": [
        "IPY_MODEL_23d893552767448b9a2e22d7b398e1bb",
        "IPY_MODEL_c41c271db4a14d0685ff3ead3bb08ef8"
       ],
       "layout": "IPY_MODEL_adeef64dccde4546acf4b5dc709e2308"
      }
     },
     "43b8265f286d46a4b821fc4d53eaabc3": {
      "model_module": "@jupyter-widgets/controls",
      "model_module_version": "1.4.0",
      "model_name": "IntSliderModel",
      "state": {
       "description": "max_features",
       "layout": "IPY_MODEL_c02113c9445741fc809bfa211484c013",
       "max": 28,
       "min": 1,
       "style": "IPY_MODEL_b6107c638a8547529a7cd9dedd8f229a",
       "value": 10
      }
     },
     "47562d79edfe4b44809848b339cf991e": {
      "model_module": "@jupyter-widgets/controls",
      "model_module_version": "1.4.0",
      "model_name": "CheckboxModel",
      "state": {
       "description": "ignore_zero",
       "disabled": false,
       "layout": "IPY_MODEL_e626c638cbd746ef8a758ee9ab6e931c",
       "style": "IPY_MODEL_618c082c46f04c758a05a7f60a616868",
       "value": true
      }
     },
     "540eeaa10e5747d3a1b9727e4713e1f1": {
      "model_module": "@jupyter-widgets/base",
      "model_module_version": "1.1.0",
      "model_name": "LayoutModel",
      "state": {}
     },
     "5665323d46da422fa843969f4a86c634": {
      "model_module": "@jupyter-widgets/output",
      "model_module_version": "1.0.0",
      "model_name": "OutputModel",
      "state": {
       "layout": "IPY_MODEL_0361c6c7a6d34b04b2fa6c5ca59fd1ea",
       "outputs": [
        {
         "data": {
          "image/png": "iVBORw0KGgoAAAANSUhEUgAAAtQAAAHwCAYAAACG+PhNAAAABHNCSVQICAgIfAhkiAAAAAlwSFlzAAALEgAACxIB0t1+/AAAADl0RVh0U29mdHdhcmUAbWF0cGxvdGxpYiB2ZXJzaW9uIDMuMC4zLCBodHRwOi8vbWF0cGxvdGxpYi5vcmcvnQurowAAIABJREFUeJzs3XucnHV99//XhyRATIAYk0AkhpiCECAhHCRQAm7EeBNAEUEORg2nUkKVwk0t2N6E1hblECrc9kbKQU2hBQsihoMIP+igpSpyNKgNIKwmHAOCJCHAbvL5/TFX4hA2ZDbXzs4s+3o+HvvYme/1va75zH50eee735mJzESSJEnShtmo2QVIkiRJfZmBWpIkSSrBQC1JkiSVYKCWJEmSSjBQS5IkSSUYqCVJkqQSDNSS9A4QEZdGxFnNrkOS+qPwfagl9WcR0Q5sCaysGf5AZj5d4pptwNWZOaZcdX1TRHwbWJyZ/6fZtUhSb3CFWpLgY5k5tOZrg8N0T4iIgc18/DIiYkCza5Ck3maglqR1iIi9IuK/I+LliHi4WHlefezYiPh1RCyNiCci4s+L8SHAD4D3RsSy4uu9EfHtiPjHmvPbImJxzf32iDgjIn4BLI+IgcV5342IJRHxZESc8ja1rrn+6mtHxF9HxPMR8UxEfCIiDoyIRyPi9xHxNzXn/l1EXB8R3ymezwMRsUvN8QkRUSl+Dr+MiI+v9bjfiIhbI2I5cDwwE/jr4rnfVMw7MyJ+U1z/VxFxaM01jomI/4qIuRHxUvFcZ9QcHx4R34qIp4vjN9YcOzgiHipq+++ImFR3gyWphxioJakLEbE1cAvwj8Bw4K+A70bEyGLK88DBwObAscDXImK3zFwOzACe3oAV76OBg4BhwCrgJuBhYGtgf+DUiPhfdV5rK2DT4tw5wOXAZ4DdgX2BORExvmb+IcB1xXP9d+DGiBgUEYOKOm4HRgFfAP4tIravOffTwDnAZsC/Av8GnF88948Vc35TPO4WwN8DV0fE6JprTAEWAiOA84ErIyKKY1cB7wJ2Kmr4GkBE7AZ8E/hz4D3AvwDzI2KTOn9GktQjDNSSVA2PLxdfq1c/PwPcmpm3ZuaqzLwDuA84ECAzb8nM32TV3VQD574l6/i/mbkoM1cAHwRGZuaXM/ONzHyCaig+qs5rdQDnZGYHcC3VoHpxZi7NzF8CvwRqV3Pvz8zri/n/RDWM71V8DQXOLeq4C7iZavhf7fuZeU/xc3qtq2Iy87rMfLqY8x3gMWDPmim/zczLM3MlMA8YDWxZhO4ZwEmZ+VJmdhQ/b4A/A/4lM3+WmSszcx7welGzJPWaPrtPT5J60Ccy8/9ba2wb4FMR8bGasUHAfwIUWxLOBj5AdXHiXcCCknUsWuvx3xsRL9eMDQB+XOe1XizCKcCK4vtzNcdXUA3Kb3nszFxVbEd57+pjmbmqZu5vqa58d1V3lyLic8D/BsYVQ0OphvzVnq15/FeLxemhVFfMf5+ZL3Vx2W2AWRHxhZqxjWvqlqReYaCWpK4tAq7KzD9b+0CxpeC7wOeors52FCvbq7codPX2Scuphu7VtupiTu15i4AnM3O7DSl+A7xv9Y2I2AgYA6zeqvK+iNioJlSPBR6tOXft5/um+xGxDdXV9f2Bn2Tmyoh4iD/+vN7OImB4RAzLzJe7OHZOZp5Tx3UkqWHc8iFJXbsa+FhE/K+IGBARmxYv9htDdRV0E2AJ0FmsVn+05tzngPdExBY1Yw8BBxYvsNsKOHU9j38v8ErxQsXBRQ07R8QHe+wZvtnuEfHJ4h1GTqW6deKnwM+o/mPgr4s91W3Ax6huI1mX54Da/dlDqIbsJVB9QSewcz1FZeYzVF/keUlEvLuoYb/i8OXASRExJaqGRMRBEbFZnc9ZknqEgVqSupCZi6i+UO9vqAbBRcAXgY0ycylwCvAfwEtUX5Q3v+bc/wGuAZ4o9mW/l+oL6x4G2qnut/7Oeh5/JdXgOhl4EngBuILqi/oa4fvAkVSfz2eBTxb7ld8APk51H/MLwCXA54rnuC5XAjuu3pOemb8CLgR+QjVsTwTu6UZtn6W6J/x/qL4Y9FSAzLyP6j7qfy7qfhw4phvXlaQe4Qe7SFI/FxF/B2ybmZ9pdi2S1Be5Qi1JkiSVYKCWJEmSSnDLhyRJklSCK9SSJElSCQZqSZIkqYQ++cEuw4YNy2233bbZZajG8uXLGTJkSLPLUA170prsS+uxJ63JvrSe/tiT+++//4XMHLm+eX0yUG+55Zbcd999zS5DNSqVCm1tbc0uQzXsSWuyL63HnrQm+9J6+mNPIuK39cxzy4ckSZJUgoFakiRJKsFALUmSJJVgoJYkSZJKMFBLkiRJJRioJUmSpBIM1JIkSVIJBmpJkiSpBAO1JEmSVIKBWpIkSSrBQC1JkiSVYKCWJEmSSjBQS5IkSSUYqCVJkqQSDNSSJElSCQZqSZIkqQQDtSRJklSCgVqSJEkqwUAtSZIklWCgliRJkkowUEuSJEklGKglSZKkEgzUkiRJUgkGakmSJKkEA7UkSZJUgoFakiRJKsFALUmSJJVgoJYkSZJKMFBLkiRJJRioJUmSpBIM1JIkSVIJBmpJkiSpBAO1JEmSVIKBWpIkST3u5Zdf5vDDD2eHHXZgwoQJ/OQnP+H3v/8906dPZ7vttmP69Om89NJLzS6zR0RmNubCEacAs4EdgAXF8DJgdmY+XMwZBlwB7AwkcFxm/mR91x47ftvc6IiLG1K3NszpEzu5cMHAZpehGvakNdmX1mNPWpN9aT3fPmAIbW1tdc+fNWsW++67LyeccAJvvPEGr776Kl/5ylcYPnw4Z555Jueeey4vvfQS5513XuOKLiki7s/MPdY3r5Er1CcDBwL7AB/KzEnAPwCX1cy5GLgtM3cAdgF+3cB6JEmS1AteeeUVfvSjH3H88ccDsPHGGzNs2DC+//3vM2vWLKAauG+88cZmltljGhKoI+JSYDwwH5iSmavX838KjCnmbA7sB1wJkJlvZObLjahHkiRJveeJJ55g5MiRHHvssey6666ccMIJLF++nOeee47Ro0cDMHr0aJ5//vkmV9ozGrnlox3YIzNfqBn7K2CHzDwhIiZTXa3+FdXV6fuBv8zM5eu43onAiQAjRozcfc5Flzekbm2YLQfDcyuaXYVq2ZPWZF9ajz1pTfal9bx/iwEMHTq0rrkLFy7k5JNP5utf/zo77rgjX//61xkyZAg33HADN99885p5H/vYx7jpppsaVXJp06ZNq2vLR68F6oiYBlwCTM3MFyNiD6or1vtk5s8i4mLglcw8a33Xdg9163GvW+uxJ63JvrQee9Ka7Evr6c4e6meffZa99tqL9vZ2AH784x9z7rnn8vjjj1OpVBg9ejTPPPMMbW1tLFy4sHFFl9QKe6hri5lE9cWHh2Tmi8XwYmBxZv6suH89sFtv1CNJkqTG2WqrrXjf+963Jizfeeed7Ljjjnz84x9n3rx5AMybN49DDjmkmWX2mIb/0y8ixgI3AJ/NzEdXj2fmsxGxKCK2z8yFwP5Ut39IkiSpj/v617/OzJkzeeONNxg/fjzf+ta3WLVqFUcccQRXXnklY8eO5brrrmt2mT2i4Vs+gHOBw4DfFoc6Vy+dF/uorwA2Bp4Ajq15AeM6bb/99tnKfx7ojyqVSrfeSkeNZ09ak31pPfakNdmX1tMfe1Lvlo+GrVBn5rji5gnFV1dzHqIauiVJkqQ+yU9KlCRJkkowUEuSJEklGKglSZKkEgzUkiRJUgkGakmSJKkEA7UkSZJUgoFakiRJKsFALUmSJJVgoJYkSZJKMFBLkiRJJRioJUmSpBIM1JIkSVIJBmpJkiSpBAO1JEmSVIKBWpIkSSrBQC1JkiSVYKCWJEmSSjBQS5IkSSUYqCVJkqQSDNSSJElSCQZqSZIkqQQDtSRJklSCgVqSJEkqwUAtSZIklWCgliRJkkowUEuSJEklGKglSZKkEgzUkiRJUgkGakmSJKkEA7UkSep1K1euZNddd+Xggw8G4M4772S33XZj8uTJTJ06laeeeqrJFUr1G9jIi0fEKcBsYAdgQTG8DJidmQ8Xc04DTgCymHNsZr72dtdd0bGScWfe0rC61X2nT+zkGHvSUuxJa7Ivrcee9Iz2cw/q1vyLL76YCRMm8MorrwAwe/Zsvv/97zNhwgQuueQSrrrqKmbOnNmIUqUe1+gV6pOBA4F9gA9l5iTgH4DLACJia+AUYI/M3BkYABzV4JokSVITLV68mFtuuYUTTjhhzVhErAnXf/jDH3jPe97TrPKkbmvYCnVEXAqMB+YD38zM/y4O/RQYs1YNgyOiA3gX8HSjapIkSc136qmncv7557N06dI1Y1dccQUHHngggwcPZvPNN+eCCy5oYoVS9zRshTozT6Iajqdl5tdqDh0P/KCY8xQwF/gd8Azwh8y8vVE1SZKk5rr55psZNWoUu++++5vGv/a1r3HrrbeyePFijj32WC655JImVSh1X0P3UK8tIqZRDdRTi/vvBg4B3g+8DFwXEZ/JzKu7OPdE4ESAESNGMmdiZ6/VrfXbcnB1H6Jahz1pTfal9diTnlGpVOqad80113D77bdzww038MYbb/Dqq6+y1157sWjRIlasWEGlUmHs2LEsWLCg7muqdyxbtsyerEOvBeqImARcAczIzBeL4Y8AT2bmkmLODcCfAm8J1Jl5GcXe67Hjt80LF/TqvwW0HqdP7MSetBZ70prsS+uxJz2jfWZbXfPa2v44r1KpMHfuXG688Ua22mor3vve9/KBD3yAK6+8knHjxr1prpqvUqnYk3Xold8gETEWuAH4bGY+WnPod8BeEfEuYAWwP3Bfb9QkSZJaw8CBA7n88ss57LDD2GijjXj3u9/NSSed1OyypLr11j/J5wDvAS6JCIDOzNwjM38WEdcDDwCdwIMUq9CSJOmdra2tbc2K56GHHsqhhx665phbC9SXNDRQZ+a44uYJxVdXc84Gzu7OdQcPGsDCbr7fpRqrUqnU/ec+9Q570prsS+uxJ5LK8pMSJUmSpBIM1JIkSVIJBmpJkiSpBAO1JEmSVIKBWpIkSSrBQC1JkiSVYKCWJEmSSjBQS5IkSSUYqCVJkqQSDNSSJElSCQZqSZIkqQQDtSRJklSCgVqSJEkqwUAtSZIklWCgliRJkkowUEuSJEklGKglSZKkEgzUkiRJUgkGakmSJKkEA7UkSZJUgoFakiRJKsFALUmSJJVgoJYkSZJKMFBLkiRJJRioJUmSpBIM1JIkSVIJBmpJkiSpBAO1JEmSVIKBWpIkSSrBQC1JkiSVYKCWJKmbVq5cya677srBBx8MwJNPPsmUKVPYbrvtOPLII3njjTeaXKGk3jSwUReOiFOA2cAOwIJieBkwOzMfLua0A0uBlUBnZu5Rz7VXdKxk3Jm39HjN2nCnT+zkGHvSUuxJa7IvrefbBwzp9jkXX3wxEyZM4JVXXgHgjDPO4LTTTuOoo47ipJNO4sorr2T27Nk9XaqkFtXIFeqTgQOBfYAPZeYk4B+Ay9aaNy0zJ9cbpiVJaqbFixdzyy23cMIJJwCQmdx1110cfvjhAMyaNYsbb7yxmSVK6mUNCdQRcSkwHpgPTMnMl4pDPwXGNOIxJUnqDaeeeirnn38+G21U/U/oiy++yLBhwxg4sPpH3zFjxvDUU081s0RJvawhgTozTwKeprr6/LWaQ8cDP6idCtweEfdHxImNqEWSpJ5y8803M2rUKHbfffc1Y5n5lnkR0ZtlSWqyhu2hXltETKMaqKfWDO+TmU9HxCjgjoj4n8z80TrOPxE4EWDEiJHMmdjZ8JpVvy0HV/eGqnXYk9ZkX1rPsmXLqFQqdc295ppruP3227nhhht44403ePXVVzn66KNZsmQJd955JwMGDOCXv/wlm266ad3XVNe60xf1Dnuybr0SqCNiEnAFMCMzX1w9nplPF9+fj4jvAXsCXQbqzLyMYv/12PHb5oULeu3fAqrD6RM7sSetxZ60JvvSer59wBDa2trqmls7r1KpMHfuXG6++WY+9alPsWTJEo466iiuvfZajj322Lqvqa5VKhV/hi3Gnqxbw982LyLGAjcAn83MR2vGh0TEZqtvAx8FHml0PZIk9bTzzjuPf/qnf2LbbbflxRdf5Pjjj292SZJ6UW8sk8wB3gNcUuwpW/32eFsC3yvGBgL/npm31XPBwYMGsPDcgxpUrjZEpVKhfWZbs8tQDXvSmuxL69nQP2G3tbWtWa0bP3489957b88VJalPaVigzsxxxc0Tiq+1jz8B7NKox5ckSZJ6g5+UKEmSJJVgoJYkSZJKMFBLkiRJJRioJUmSpBIM1JIkSVIJBmpJkiSpBAO1JEmSVIKBWpIkSSrBQC1JkiSVYKCWJEmSSjBQS5IkSSUYqCVJkqQSDNSSJElSCQZqSZIkqQQDtSRJklSCgVqSJEkqwUAtSZIklWCgliRJkkowUEuSJEklGKglSZKkEgzUkiRJUgkGakmSJKkEA7UkSZJUgoFakiRJKsFALUmSJJVgoJYkSZJKMFBLkiRJJRioJUmSpBIM1JIkSVIJA5tdgCRJ3fXaa6+x33778frrr9PZ2cnhhx/O3//937PvvvuydOlSAJ5//nn23HNPbrzxxiZXK+mdrmGBOiJOAWYDOwALiuFlwOzMfDgitge+U3PKeGBOZl60vmuv6FjJuDNv6emSVcLpEzs5xp60FHvSmuzLurWfe1DdczfZZBPuuusuhg4dSkdHB1OnTmXGjBn8+Mc/XjPnsMMO45BDDmlEqZL0Jo1coT4ZmAGMBn6dmS9FxAzgMmBKZi4EJgNExADgKeB7DaxHkvQOEREMHToUgI6ODjo6OoiINceXLl3KXXfdxbe+9a1mlSipH2nIHuqIuJTqivN8quH5peLQT4ExXZyyP/CbzPxtI+qRJL3zrFy5ksmTJzNq1CimT5/OlClT1hz73ve+x/7778/mm2/exAol9RcNCdSZeRLwNDAtM79Wc+h44AddnHIUcE0japEkvTMNGDCAhx56iMWLF3PvvffyyCOPrDl2zTXXcPTRRzexOkn9SWRmYy4c0Q7skZkvFPenAZcAUzPzxZp5G1MN3ztl5nNvc70TgRMBRowYufuciy5vSN3aMFsOhudWNLsK1bInrcm+rNvErbfY4HPnzZvHpptuypFHHskf/vAHPve5z3Hdddex8cYbr/fcZcuWrdk+otZhX1pPf+zJtGnT7s/MPdY3r1fe5SMiJgFXADNqw3RhBvDA24VpgMy8jOr+a8aO3zYvXOAblLSS0yd2Yk9aiz1pTfZl3dpnttU9d8mSJQwaNIhhw4axYsUKzjrrLM444wza2tq49NJL+cQnPsFHP/rRuq5VqVRoa6v/sdU77EvrsSfr1vDf6hExFrgB+GxmPtrFlKNxu4ckqRueeeYZZs2axcqVK1m1ahVHHHEEBx98MADXXnstZ555ZpMrlNSf9MYyyRzgPcAlxSuwO1cvnUfEu4DpwJ/3Qh2SpHeISZMm8eCDD3Z5rFKp9G4xkvq9hgXqzBxX3Dyh+OpqzqtUw3a3DB40gIXdeL9SNV6lUunWn2vVePakNdkXSXrn8aPHJUmSpBIM1JIkSVIJBmpJkiSpBAO1JEmSVIKBWpIkSSrBQC1JkiSVYKCWJEmSSjBQS5IkSSUYqCVJkqQSDNSSJElSCQZqSZIkqQQDtSRJklSCgVqSJEkqwUAtSZIklWCgliRJkkowUEuSJEklGKglSZKkEgzUkiRJUgkGakmSJKkEA7UkSZJUgoFakiRJKsFALUmSJJVgoJYkSZJKMFBLkiRJJRioJUmSpBIM1JIkSVIJBmpJkiSpBAO1JEmSVIKBWpIkSSrBQC1JkiSVYKCWpH7itddeY88992SXXXZhp5124uyzzwZg5syZbL/99uy8884cd9xxdHR0NLlSSepbBjby4hFxCjAb2AFYUAwvA2Zn5sMRsSnwI2CTopbrM/Ps9V13RcdKxp15S4Oq1oY4fWInx9iTlmJPWlNP96X93IPqnrvJJptw1113MXToUDo6Opg6dSozZsxg5syZXH311QB8+tOf5oorrmD27Nk9VqMkvdM1NFADJwMzgNHArzPzpYiYAVwGTAFeBz6cmcsiYhDwXxHxg8z8aYPrkqR+JyIYOnQoAB0dHXR0dBARHHjggWvm7LnnnixevLhZJUpSn9SwLR8RcSkwHpgPTMnMl4pDPwXGAGTVsmJ8UPGVjapJkvq7lStXMnnyZEaNGsX06dOZMmXKmmMdHR1cddVVHHDAAU2sUJL6noYF6sw8CXgamJaZX6s5dDzwg9V3ImJARDwEPA/ckZk/a1RNktTfDRgwgIceeojFixdz77338sgjj6w5dvLJJ7Pffvux7777NrFCSep7IrN7C8IR8W7gfZn5izrmtgN7ZOYLxf1pwCXA1Mx8ca25w4DvAV/IzEe6uNaJwIkAI0aM3H3ORZd3q2411paD4bkVza5CtexJa+rpvkzceosNPnfevHlsuummHHnkkcybN4/HHnuML3/5y2y0Uf96vfqyZcvWbIVR67Avrac/9mTatGn3Z+Ye65tX1x7qiKgAHy/mPwQsiYi7M/N/11tQREwCrgBmrB2mATLz5eJxDgDeEqgz8zKqe68ZO37bvHBBo7d/qztOn9iJPWkt9qQ19XRf2me21T13yZIlDBo0iGHDhrFixQrOOusszjjjDB5//HEWLlzInXfeyeDBg3ustr6iUqnQ1tbW7DK0FvvSeuzJutX7W32LzHwlIk4AvpWZZ0fEeleoV4uIscANwGcz89Ga8ZFARxGmBwMfAc7rRv2SpDo988wzzJo1i5UrV7Jq1SqOOOIIDj74YAYOHMg222zD3nvvDcAnP/lJ5syZ0+RqJanvqDdQD4yI0cARwN9uwOPMAd4DXBIRAJ3F8vloYF5EDKC6n/s/MvPmDbi+JGk9Jk2axIMPPviW8c7OziZUI0nvHPUG6i8DPwTuycyfR8R44LH1nZSZ44qbJxRfax//BbBrnTWsMXjQABZ2471X1XiVSqVbf3pW49mT1mRfJOmdp65AnZnXAdfV3H8COKxRRUmSJEl9RV0v5Y6ID0TEnRHxSHF/UkT8n8aWJkmSJLW+et8b6XLgS0AHrNmqcVSjipIkSZL6inoD9bsy8961xnwViyRJkvq9egP1CxHxJxQfCx4RhwPPNKwqSZIkqY+o910+/oLqh6rsEBFPAU8CMxtWlSRJktRHrDdQR8RGVD8+/CMRMQTYKDOXNr40SZIkqfWtd8tHZq4CPl/cXm6YliRJkv6o3j3Ud0TEX0XE+yJi+OqvhlYmSZIk9QH17qE+rvj+FzVjCYzv2XIkSZKkvqXeT0p8f6MLkSRJkvqiugJ1RHyuq/HM/NeeLUeSJEnqW+rd8vHBmtubAvsDDwAGakmSJPVr9W75+ELt/YjYAriqIRVJkiRJfUi97/KxtleB7XqyEEmSJKkvqncP9U0UHztONYTvCFzXqKIkSZKkvqLePdRza253Ar/NzMUNqEeSJEnqU+rd8nFgZt5dfN2TmYsj4ryGViZJkiT1AfUG6uldjM3oyUIkSZKkvuhtt3xExGzgZGB8RPyi5tBmwD2NLEySJEnqC9a3h/rfgR8AXwXOrBlfmpm/b1hVkiRJUh/xtoE6M/8A/AE4GiAiRlH9YJehETE0M3/X+BIlSZKk1lXXHuqI+FhEPAY8CdwNtFNduZYkSZL6tXpflPiPwF7Ao5n5fqofPe4eakmSJPV79Qbqjsx8EdgoIjbKzP8EJjewLkmSJKlPqPeDXV6OiKHAj4F/i4jnqX7AiyRJktSv1btCfQjwKnAqcBvwG+BjjSpKkiRJ6ivqWqHOzOURsQ2wXWbOi4h3AQMaW5okSZLU+up9l48/A64H/qUY2hq4sVFFSZIkSX1FvVs+/gLYB3gFIDMfA0Y1qihJUs977bXX2HPPPdlll13YaaedOPvsswGYOXMm22+/PTvvvDPHHXccHR0dTa5UkvqWel+U+HpmvhERAETEQCA39EEj4hRgNvAAcDlwETAIeCEzP7S+81d0rGTcmbds6MOrAU6f2Mkx9qSl2JPW1NN9aT/3oLrnbrLJJtx1110MHTqUjo4Opk6dyowZM5g5cyZXX301AJ/+9Ke54oormD17do/VKEnvdPUG6rsj4m+AwRExHTgZuKnE454MzABeAv4bOCAzf1d8EqMkqQEigqFDhwLQ0dFBR0cHEcGBBx64Zs6ee+7J4sWLm1WiJPVJ9W75OBNYAiwA/hy4Ffg/G/KAEXEpMB6YT3UryQ2rP8I8M5/fkGtKkuqzcuVKJk+ezKhRo5g+fTpTpkxZc6yjo4OrrrqKAw44oIkVSlLf87aBOiLGAmTmqsy8PDM/lZmHF7c3aMtHZp4EPA1MA0YC746ISkTcHxGf25BrSpLqM2DAAB566CEWL17MvffeyyOPPLLm2Mknn8x+++3Hvvvu28QKJanvibfLxRHxQGbuVtz+bmYe1iMPGtEO7AH8XfF9f2Aw8BPgoMx8tItzTgROBBgxYuTucy66vCdKUQ/ZcjA8t6LZVaiWPWlNPd2XiVtvscHnzps3j0033ZQjjzySefPm8dhjj/HlL3+ZjTaq94+X7wzLli1bsxVGrcO+tJ7+2JNp06bdn5l7rG/e+vZQR83t8eVK6tJiqi9EXA4sj4gfAbsAbwnUmXkZcBnA2PHb5oUL6t3+rd5w+sRO7ElrsSetqaf70j6zre65S5YsYdCgQQwbNowVK1Zw1llnccYZZ/D444+zcOFC7rzzTgYPHtxjtfUVlUqFtra2ZpehtdiX1mNP1m19v9VzHbd7yveBfy7eNWRjYArwtQY8jiT1e8888wyzZs1i5cqVrFq1iiOOOIKDDz6YgQMHss0227D33nsD8MlPfpI5c+Y0uVpJ6jvWF6h3iYhXqK5UDy5uU9zPzNy8zINn5q8j4jbgF8Aq4IrMfGQ9p0mSNsCkSZN48MEH3zLe2dnZhGok6Z3jbQN1Zjbk48Uzc1zN7QuAC7pz/uBBA1jYjfdeVeNVKpVu/elZjWdPWpN9kaR3nv71yhNJkiSphxmoJUmSpBIM1JLtERTUAAAWb0lEQVQkSVIJBmpJkiSpBAO1JEmSVIKBWpIkSSrBQC1JkiSVYKCWJEmSSjBQS5IkSSUYqCVJkqQSDNSSJElSCQZqSZIkqQQDtSRJklSCgVqSJEkqwUAtSZIklWCgliRJkkowUEuSJEklGKglSZKkEgzUkiRJUgkGakmSJKkEA7UkSZJUgoFakiRJKsFALUmSJJVgoJYkSZJKMFBLkiRJJRioJUmSpBIM1JIkSVIJBmpJkiSpBAO1JEmSVIKBWpIkSSrBQC2pT1i0aBHTpk1jwoQJ7LTTTlx88cVvOj537lwighdeeKFJFUqS+quBzXjQiDgFmA08kJkzI+KDwE+BIzPz+vWdv6JjJePOvKXRZaobTp/YyTH2pKX0hZ60n3tQ3XMHDhzIhRdeyG677cbSpUvZfffdmT59OjvuuCOLFi3ijjvuYOzYsQ2sVpKkrjVrhfpk4MAiTA8AzgN+2KRaJPUBo0ePZrfddgNgs802Y8KECTz11FMAnHbaaZx//vlERDNLlCT1U72+Qh0RlwLjgfkR8U0gge8CH+ztWiT1Te3t7Tz44INMmTKF+fPns/XWW7PLLrs0uyxJUj/V64E6M0+KiAOAacAmwL8DH8ZALakOy5Yt47DDDuOiiy5i4MCBnHPOOdx+++3NLkuS1I81ZQ91jYuAMzJz5fr+VBsRJwInAowYMZI5Ezt7oTzVa8vB1T27ah19oSeVSqVb8zs7O/nSl77ElClTGD58ONdeey2PPvoo22+/PQBLlixhp5124hvf+AbDhw9vQMXlLVu2rNvPW41lT1qTfWk99mTdIjN7/0Ej2oE9gJ8Dq5P0COBV4MTMvPHtzh87ftvc6IiL326KetnpEzu5cEGz/32mWn2hJ915UWJmMmvWLIYPH85FF13U5Zxx48Zx3333MWLEiJ4qscdVKhXa2tqaXYZq2JPWZF9aT3/sSUTcn5l7rG9eU982LzPfn5njMnMccD1w8vrCtKT+6Z577uGqq67irrvuYvLkyUyePJlbb7212WVJktT0LR+SVJepU6eyvr+otbe3904xkiTVaEqgLlak1x47pt7zBw8awMJu/KlYjVepVGif2dbsMlTDnkiS1Dv8pERJkiSpBAO1JEmSVIKBWpIkSSrBQC1JkiSVYKCWJEmSSjBQS5IkSSUYqCVJkqQSDNSSJElSCQZqSZIkqQQDtSRJklSCgVqSJEkqwUAtSZIklWCgliRJkkowUEuSJEklGKglSZKkEgzUkiRJUgkGakmSJKkEA7UkSZJUgoFakiRJKsFALUmSJJVgoJYkSZJKMFBLkiRJJRioJUmSpBIM1JIkSVIJBmpJkiSpBAO1JEmSVIKBWpIkSSrBQC1JkiSVYKCWJEmSSjBQS2qIRYsWMW3aNCZMmMBOO+3ExRdfDMAXv/hFdthhByZNmsShhx7Kyy+/3ORKJUkqZ2AzHjQiTgFmA78C3gvsBvxtZs6t5/wVHSsZd+YtDaxQ3XX6xE6OsSctpRE9aT/3oLrnDhw4kAsvvJDddtuNpUuXsvvuuzN9+nSmT5/OV7/6VQYOHMgZZ5zBV7/6Vc4777werVOSpN7UlEANnAzMAJYD2wCfaFIdkhpk9OjRjB49GoDNNtuMCRMm8NRTT/HRj350zZy99tqL66+/vlklSpLUI3p9y0dEXAqMB+YDMzPz50BHb9chqfe0t7fz4IMPMmXKlDeNf/Ob32TGjBlNqkqSpJ7R6yvUmXlSRBwATMvMF3r78SX1rmXLlnHYYYdx0UUXsfnmm68ZP+eccxg4cCAzZ85sYnWSJJUXmdn7DxrRDuyxOlBHxN8By95uD3VEnAicCDBixMjd51x0eS9UqnptORieW9HsKlSrET2ZuPUW3Zrf2dnJl770JT74wQ9yxBFHrBm/7bbbuOmmm7jwwgvZdNNNe7bIFrds2TKGDh3a7DJUw560JvvSevpjT6ZNm3Z/Zu6xvnnN2kPdbZl5GXAZwNjx2+aFC/pM6f3C6RM7sSetpRE9aZ/ZVvfczGTWrFnss88+XHTRRWvGb7vtNubPn8/dd9/NyJEje7S+vqBSqdDW1tbsMlTDnrQm+9J67Mm6mYAkNcQ999zDVVddxcSJE5k8eTIAX/nKVzjllFN4/fXXmT59OlB9YeKll17azFIlSSqlqYE6IrYC7gM2B1ZFxKnAjpn5SjPrklTe1KlT6WpL2YEHHtiEaiRJapymBOrMHFdzd0x3zx88aAALu/F+uGq8SqXSre0Aajx7IklS7/CTEiVJkqQSDNSSJElSCQZqSZIkqQQDtSRJklSCgVqSJEkqwUAtSZIklWCgliRJkkowUEuSJEklGKglSZKkEgzUkiRJUgkGakmSJKkEA7UkSZJUgoFakiRJKsFALUmSJJVgoJYkSZJKMFBLkiRJJRioJUmSpBIM1JIkSVIJBmpJkiSpBAO1JEmSVIKBWpIkSSrBQC1JkiSVYKCWJEmSSjBQS5IkSSUYqCVJkqQSDNSSJElSCQZqSZIkqQQDtSRJklSCgVqSJEkqwUAtSZIklWCglrpw3HHHMWrUKHbeeee3HJs7dy4RwQsvvNCEyiRJUqsZ2MiLR8QpwGzgV8B7gd2Av83MuTVzTgNOABJYABybma+93XVXdKxk3Jm3NKxudd/pEzs5psV70n7uQXXPPeaYY/j85z/P5z73uTeNL1q0iDvuuIOxY8f2dHmSJKmPavQK9cnAgVRD9SnA3NqDEbF1Mb5HZu4MDACOanBN0nrtt99+DB8+/C3jp512Gueffz4R0YSqJElSK2pYoI6IS4HxwHxgZmb+HOjoYupAYHBEDATeBTzdqJqkMubPn8/WW2/NLrvs0uxSJElSC2nYlo/MPCkiDgCmZWaXm00z86mImAv8DlgB3J6ZtzeqJmlDvfrqq5xzzjncfrv/85QkSW/W0D3U6xMR7wYOAd4PvAxcFxGfycyru5h7InAiwIgRI5kzsbNXa9Xb23JwdR91K6tUKt2a/+yzz7J8+XIqlQpPPPEEjz76KNtvvz0AS5YsYaedduIb3/hGl1tDWsGyZcu6/ZzVePal9diT1mRfWo89WbemBmrgI8CTmbkEICJuAP4UeEugzszLgMsAxo7fNi9c0OzSVev0iZ20ek/aZ7Z1b357O0OGDKGtrY22tjaOO+64NcfGjRvHfffdx4gRI3q4yp5TqVRoa2trdhlai31pPfakNdmX1mNP1q3Zb5v3O2CviHhXVF/ltT/w6ybXJHH00Uez9957s3DhQsaMGcOVV17Z7JIkSVKL6pUlxYjYCrgP2BxYFRGnAjtm5s8i4nrgAaATeJBiFVpqpmuuueZtj7e3t/dOIZIkqeU1NFBn5riau2PWMeds4OzuXHfwoAEs7MZ7CqvxKpVKt7dUSJIkvRM0e8uHJEmS1KcZqCVJkqQSDNSSJElSCQZqSZIkqQQDtSRJklSCgVqSJEkqwUAtSZIklWCgliRJkkowUEuSJEklGKglSZKkEgzUkiRJUgkGakmSJKkEA7UkSZJUgoFakiRJKsFALUmSJJVgoJYkSZJKMFBLkiRJJRioJUmSpBIM1JIkSVIJBmpJkiSpBAO1JEmSVIKBWpIkSSrBQC1JkiSVYKCWJEmSSjBQS5IkSSUYqCVJkqQSDNSSJElSCQZqSZIkqQQDtSRJklSCgVqSJEkqYWCzC9gQKzpWMu7MW5pdhmqcPrGTY1q8J+3nHlT33OOOO46bb76ZUaNG8cgjj7zp2Ny5c/niF7/IkiVLGDFiRE+XKUmS+piGrlBHxCkR8euI+G5E/CQiXo+Iv1przgERsTAiHo+IMxtZj1SvY445httuu+0t44sWLeKOO+5g7NixTahKkiS1okZv+TgZOBCYDZwCzK09GBEDgP8HzAB2BI6OiB0bXJO0Xvvttx/Dhw9/y/hpp53G+eefT0Q0oSpJktSKGhaoI+JSYDwwH5iZmT8HOtaatifweGY+kZlvANcChzSqJqmM+fPns/XWW7PLLrs0uxRJktRCGraHOjNPiogDgGmZ+cI6pm0NLKq5vxiY0tXEiDgROBFgxIiRzJnY2ZPlqqQtB1f3UbeySqXSrfnPPvssy5cvp1Kp8Nprr3HGGWdwwQUXrLl/zz33sMUWWzSm2B6wbNmybj9nNZ59aT32pDXZl9ZjT9at2S9K7Orv5tnVxMy8DLgMYOz4bfPCBc0uXbVOn9hJq/ekfWZb9+a3tzNkyBDa2tpYsGABL774Ip///OcBeOGFF/jCF77Avffey1ZbbdWAasurVCq0tbU1uwytxb60HnvSmuxL67En69bsBLQYeF/N/THA002qRVqniRMn8vzzz6+5P27cOO677z7f5UOSJDX9fah/DmwXEe+PiI2Bo6juuZaa6uijj2bvvfdm4cKFjBkzhiuvvLLZJUmSpBbVKyvUEbEVcB+wObAqIk4FdszMVyLi88APgQHANzPzl+u73uBBA1jYjfcUVuNVKpVub6loZddcc83bHm9vb++dQiRJUstraKDOzHE1d8esY86twK2NrEOSJElqlGZv+ZAkSZL6NAO1JEmSVIKBWpIkSSrBQC1JkiSVYKCWJEmSSjBQS5IkSSUYqCVJkqQSDNSSJElSCQZqSZIkqQQDtSRJklSCgVqSJEkqwUAtSZIklWCgliRJkkowUEuSJEklGKglSZKkEgzUkiRJUgkGakmSJKkEA7UkSZJUgoFakiRJKsFALUmSJJVgoJYkSZJKMFBLkiRJJRioJUmSpBIM1JIkSVIJBmpJkiSpBAO1JEmSVIKBWpIkSSrBQC1JkiSVYKCWJEmSSjBQS5IkSSUYqCVJkqQSDNSSJElSCQZqSZIkqQQDtSRJklRCZGaza+i2iFgKLGx2HXqTEcALzS5Cb2JPWpN9aT32pDXZl9bTH3uyTWaOXN+kgb1RSQMszMw9ml2E/igi7rMnrcWetCb70nrsSWuyL63HnqybWz4kSZKkEgzUkiRJUgl9NVBf1uwC9Bb2pPXYk9ZkX1qPPWlN9qX12JN16JMvSpQkSZJaRV9doZYkSZJaQp8K1BFxQEQsjIjHI+LMZtfTX0XENyPi+Yh4pGZseETcERGPFd/f3cwa+5uIeF9E/GdE/DoifhkRf1mM25cmiYhNI+LeiHi46MnfF+Pvj4ifFT35TkRs3Oxa+6OIGBARD0bEzcV9+9JEEdEeEQsi4qGIuK8Y8/dXk0XEsIi4PiL+p/jvy972pWt9JlBHxADg/wEzgB2BoyNix+ZW1W99GzhgrbEzgTszczvgzuK+ek8ncHpmTgD2Av6i+P+HfWme14EPZ+YuwGTggIjYCzgP+FrRk5eA45tYY3/2l8Cva+7bl+ablpmTa96Wzd9fzXcxcFtm7gDsQvX/M/alC30mUAN7Ao9n5hOZ+QZwLXBIk2vqlzLzR8Dv1xo+BJhX3J4HfKJXi+rnMvOZzHyguL2U6i+9rbEvTZNVy4q7g4qvBD4MXF+M25MmiIgxwEHAFcX9wL60In9/NVFEbA7sB1wJkJlvZObL2Jcu9aVAvTWwqOb+4mJMrWHLzHwGquEOGNXkevqtiBgH7Ar8DPvSVMW2goeA54E7gN8AL2dmZzHF32PNcRHw18Cq4v57sC/NlsDtEXF/RJxYjPn7q7nGA0uAbxXbo66IiCHYly71pUAdXYz5FiVSjYgYCnwXODUzX2l2Pf1dZq7MzMnAGKp/ZZvQ1bTerap/i4iDgecz8/7a4S6m2pfetU9m7kZ1W+dfRMR+zS5IDAR2A76RmbsCy3F7xzr1pUC9GHhfzf0xwNNNqkVv9VxEjAYovj/f5Hr6nYgYRDVM/1tm3lAM25cWUPyZtEJ1f/uwiBhYHPL3WO/bB/h4RLRT3Tr4Yaor1valiTLz6eL788D3qP4D1N9fzbUYWJyZPyvuX081YNuXLvSlQP1zYLvildgbA0cB85tck/5oPjCruD0L+H4Ta+l3ij2gVwK/zsx/qjlkX5okIkZGxLDi9mDgI1T3tv8ncHgxzZ70ssz8UmaOycxxVP87cldmzsS+NE1EDImIzVbfBj4KPIK/v5oqM58FFkXE9sXQ/sCvsC9d6lMf7BIRB1JdSRgAfDMzz2lySf1SRFwDtAEjgOeAs4Ebgf8AxgK/Az6VmWu/cFENEhFTgR8DC/jjvtC/obqP2r40QURMovqCnQFUFy/+IzO/HBHjqa6MDgceBD6Tma83r9L+KyLagL/KzIPtS/MUP/vvFXcHAv+emedExHvw91dTRcRkqi/e3Rh4AjiW4vcZ9uVN+lSgliRJklpNX9ryIUmSJLUcA7UkSZJUgoFakiRJKsFALUmSJJVgoJYkSZJKMFBLUh0iYmVEPFTzNW4DrjEsIk7u+erWXP/jEdGrn2QWEZ+IiB178zElqdX4tnmSVIeIWJaZQ0teYxxwc2bu3M3zBmTmyjKP3QjFJwteQfU5Xd/seiSpWVyhlqQNFBEDIuKCiPh5RPwiIv68GB8aEXdGxAMRsSAiDilOORf4k2KF+4KIaIuIm2uu988RcUxxuz0i5kTEfwGfiog/iYjbIuL+iPhxROzQRT3HRMQ/F7e/HRHfiIj/jIgnIuJDEfHNiPh1RHy75pxlEXFhUeudETGyGJ8cET8tntf3IuLdxXglIr4SEXcDZwAfBy4ontOfRMSfFT+PhyPiuxHxrpp6/m9E/HdRz+E1Nfx18XN6OCLOLcbW+3wlqVUMbHYBktRHDI6Ih4rbT2bmocDxwB8y84MRsQlwT0TcDiwCDs3MVyJiBPDTiJgPnAnsnJmTYc0n9b2d1zJzajH3TuCkzHwsIqYAlwAfXs/57y7mfBy4CdgHOAH4eURMzsyHgCHAA5l5ekTMofrJp58H/hX4QmbeHRFfLsZPLa47LDM/VNS1HTUr1BHxcmZeXtz+x+Jn9PXivNHAVGAHqh9ffH1EzAA+AUzJzFcjYngx97INeL6S1BQGakmqz4rVQbjGR4FJNautWwDbAYuBr0TEflQ/Cn5rYMsNeMzvQHXFG/hT4LqIWH1skzrOvykzMyIWAM9l5oLier8ExgEPFfV9p5h/NXBDRGxBNTTfXYzPA65bu6512LkI0sOAocAPa47dmJmrgF9FxOqfx0eAb2XmqwCZ+fsSz1eSmsJALUkbLqiu4v7wTYPVbRsjgd0zsyMi2oFNuzi/kzdvvVt7zvLi+0bAy10E+vV5vfi+qub26vvr+v1fzwtrlr/NsW8Dn8jMh4ufQ1sX9UD1Z7f6+9qPuaHPV5Kawj3UkrThfgjMjohBABHxgYgYQnWl+vkiTE8DtinmLwU2qzn/t8COEbFJsSq8f1cPkpmvAE9GxKeKx4mI2KWHnsNGwOoV9k8D/5WZfwBeioh9i/HPAnd3dTJvfU6bAc8UP5OZdTz+7cBxNXuthzf4+UpSjzNQS9KGuwL4FfBARDwC/AvVld9/A/aIiPuohsr/AcjMF6nus34kIi7IzEXAfwC/KM558G0eayZwfEQ8DPwSOORt5nbHcmCniLif6h7lLxfjs6i+2PAXwOSa8bVdC3wxIh6MiD8BzgJ+BtxB8bzfTmbeRnU/9X3FHvW/Kg416vlKUo/zbfMkqR+LHng7QEnq71yhliRJkkpwhVqSJEkqwRVqSZIkqQQDtSRJklSCgVqSJP3/7daxAAAAAMAgf+tB7C2KgEGoAQBgEGoAABiEGgAAhgA3ESOFhO8zCgAAAABJRU5ErkJggg==\n",
          "text/plain": "<Figure size 864x576 with 1 Axes>"
         },
         "metadata": {
          "needs_background": "light"
         },
         "output_type": "display_data"
        }
       ]
      }
     },
     "589caa36ac894752bd963f10992842f7": {
      "model_module": "@jupyter-widgets/controls",
      "model_module_version": "1.4.0",
      "model_name": "IntSliderModel",
      "state": {
       "description": "tree_index",
       "layout": "IPY_MODEL_1bf3080f64fb4fa99ff1d3259cabfd0d",
       "max": 99,
       "style": "IPY_MODEL_be474dfb5edc4d9397e008387428f6b1",
       "value": 49
      }
     },
     "5ae0a1fe2d704fe689fce1620ad03a0a": {
      "model_module": "@jupyter-widgets/controls",
      "model_module_version": "1.4.0",
      "model_name": "IntSliderModel",
      "state": {
       "description": "tree_index",
       "layout": "IPY_MODEL_81a68c62bfbb437aa944844d6f6b8e6f",
       "max": 99,
       "style": "IPY_MODEL_af894fb026ef4ea4a4cc01fe08b00739",
       "value": 49
      }
     },
     "5b452a5b51cb4dd89fd786f2a3227acd": {
      "model_module": "@jupyter-widgets/base",
      "model_module_version": "1.1.0",
      "model_name": "LayoutModel",
      "state": {}
     },
     "5d7120c274f64a3f9839ac38d3111714": {
      "model_module": "@jupyter-widgets/base",
      "model_module_version": "1.1.0",
      "model_name": "LayoutModel",
      "state": {}
     },
     "6119664f5f544ca29bc5ded4ffd2f201": {
      "model_module": "@jupyter-widgets/output",
      "model_module_version": "1.0.0",
      "model_name": "OutputModel",
      "state": {
       "layout": "IPY_MODEL_73f4e9a4456144c98331637f2bb55cf4",
       "outputs": [
        {
         "data": {
          "image/png": "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\n",
          "text/plain": "<Figure size 720x360 with 1 Axes>"
         },
         "metadata": {
          "needs_background": "light"
         },
         "output_type": "display_data"
        }
       ]
      }
     },
     "618c082c46f04c758a05a7f60a616868": {
      "model_module": "@jupyter-widgets/controls",
      "model_module_version": "1.4.0",
      "model_name": "DescriptionStyleModel",
      "state": {
       "description_width": ""
      }
     },
     "69a29fa265f34a67b5ec833d5d373f29": {
      "model_module": "@jupyter-widgets/controls",
      "model_module_version": "1.4.0",
      "model_name": "DescriptionStyleModel",
      "state": {
       "description_width": ""
      }
     },
     "72cc9cae2ea04901a07790a160b2e2fa": {
      "model_module": "@jupyter-widgets/output",
      "model_module_version": "1.0.0",
      "model_name": "OutputModel",
      "state": {
       "layout": "IPY_MODEL_33f2966703f14550831793404c2eccbc",
       "outputs": [
        {
         "data": {
          "image/svg+xml": "<?xml version=\"1.0\" encoding=\"UTF-8\" standalone=\"no\"?>\r\n<!DOCTYPE svg PUBLIC \"-//W3C//DTD SVG 1.1//EN\"\r\n \"http://www.w3.org/Graphics/SVG/1.1/DTD/svg11.dtd\">\r\n<!-- Generated by graphviz version 2.38.0 (20140413.2041)\r\n -->\r\n<!-- Title: %3 Pages: 1 -->\r\n<svg width=\"621pt\" height=\"244pt\"\r\n viewBox=\"0.00 0.00 620.60 243.91\" xmlns=\"http://www.w3.org/2000/svg\" xmlns:xlink=\"http://www.w3.org/1999/xlink\">\r\n<g id=\"graph0\" class=\"graph\" transform=\"scale(1 1) rotate(0) translate(4 239.912)\">\r\n<title>%3</title>\r\n<polygon fill=\"white\" stroke=\"none\" points=\"-4,4 -4,-239.912 616.6,-239.912 616.6,4 -4,4\"/>\r\n<!-- split0 -->\r\n<g id=\"node1\" class=\"node\"><title>split0</title>\r\n<polygon fill=\"none\" stroke=\"black\" points=\"109,-129.456 0,-129.456 0,-93.4558 109,-93.4558 109,-129.456\"/>\r\n<text text-anchor=\"start\" x=\"23\" y=\"-115.256\" font-family=\"Times New Roman,serif\" font-weight=\"bold\" font-size=\"14.00\">f6</text>\r\n<text text-anchor=\"start\" x=\"36\" y=\"-115.256\" font-family=\"Times New Roman,serif\" font-size=\"14.00\"> ≤ </text>\r\n<text text-anchor=\"start\" x=\"52\" y=\"-115.256\" font-family=\"Times New Roman,serif\" font-weight=\"bold\" font-size=\"14.00\">2.100</text>\r\n<text text-anchor=\"start\" x=\"8\" y=\"-101.256\" font-family=\"Times New Roman,serif\" font-size=\"14.00\">100.00% of data</text>\r\n</g>\r\n<!-- split2 -->\r\n<g id=\"node2\" class=\"node\"><title>split2</title>\r\n<polygon fill=\"none\" stroke=\"black\" points=\"252,-153.456 150,-153.456 150,-117.456 252,-117.456 252,-153.456\"/>\r\n<text text-anchor=\"start\" x=\"166\" y=\"-139.256\" font-family=\"Times New Roman,serif\" font-weight=\"bold\" font-size=\"14.00\">f28</text>\r\n<text text-anchor=\"start\" x=\"186\" y=\"-139.256\" font-family=\"Times New Roman,serif\" font-size=\"14.00\"> ≤ </text>\r\n<text text-anchor=\"start\" x=\"202\" y=\"-139.256\" font-family=\"Times New Roman,serif\" font-weight=\"bold\" font-size=\"14.00\">1.346</text>\r\n<text text-anchor=\"start\" x=\"158\" y=\"-125.256\" font-family=\"Times New Roman,serif\" font-size=\"14.00\">96.41% of data</text>\r\n</g>\r\n<!-- split0&#45;&gt;split2 -->\r\n<g id=\"edge5\" class=\"edge\"><title>split0&#45;&gt;split2</title>\r\n<path fill=\"none\" stroke=\"black\" d=\"M109.306,-120.393C119.296,-122.052 129.791,-123.795 139.953,-125.483\"/>\r\n<polygon fill=\"black\" stroke=\"black\" points=\"139.536,-128.961 149.974,-127.147 140.683,-122.056 139.536,-128.961\"/>\r\n<text text-anchor=\"middle\" x=\"129.5\" y=\"-129.256\" font-family=\"Times New Roman,serif\" font-size=\"14.00\">yes</text>\r\n</g>\r\n<!-- split1 -->\r\n<g id=\"node7\" class=\"node\"><title>split1</title>\r\n<polygon fill=\"none\" stroke=\"black\" points=\"248.5,-98.4558 153.5,-98.4558 153.5,-62.4558 248.5,-62.4558 248.5,-98.4558\"/>\r\n<text text-anchor=\"start\" x=\"169.5\" y=\"-84.2558\" font-family=\"Times New Roman,serif\" font-weight=\"bold\" font-size=\"14.00\">f9</text>\r\n<text text-anchor=\"start\" x=\"182.5\" y=\"-84.2558\" font-family=\"Times New Roman,serif\" font-size=\"14.00\"> ≤ </text>\r\n<text text-anchor=\"start\" x=\"198.5\" y=\"-84.2558\" font-family=\"Times New Roman,serif\" font-weight=\"bold\" font-size=\"14.00\">0.000</text>\r\n<text text-anchor=\"start\" x=\"161.5\" y=\"-70.2558\" font-family=\"Times New Roman,serif\" font-size=\"14.00\">3.59% of data</text>\r\n</g>\r\n<!-- split0&#45;&gt;split1 -->\r\n<g id=\"edge8\" class=\"edge\"><title>split0&#45;&gt;split1</title>\r\n<path fill=\"none\" stroke=\"black\" d=\"M109.306,-99.9126C120.365,-97.5402 132.041,-95.0354 143.201,-92.6412\"/>\r\n<polygon fill=\"black\" stroke=\"black\" points=\"144.229,-96.0003 153.272,-90.4805 142.76,-89.1561 144.229,-96.0003\"/>\r\n<text text-anchor=\"middle\" x=\"129.5\" y=\"-101.256\" font-family=\"Times New Roman,serif\" font-size=\"14.00\">no</text>\r\n</g>\r\n<!-- split3 -->\r\n<g id=\"node3\" class=\"node\"><title>split3</title>\r\n<polygon fill=\"none\" stroke=\"black\" points=\"411.175,-200.456 309.175,-200.456 309.175,-164.456 411.175,-164.456 411.175,-200.456\"/>\r\n<text text-anchor=\"start\" x=\"325.175\" y=\"-186.256\" font-family=\"Times New Roman,serif\" font-weight=\"bold\" font-size=\"14.00\">f27</text>\r\n<text text-anchor=\"start\" x=\"345.175\" y=\"-186.256\" font-family=\"Times New Roman,serif\" font-size=\"14.00\"> ≤ </text>\r\n<text text-anchor=\"start\" x=\"361.175\" y=\"-186.256\" font-family=\"Times New Roman,serif\" font-weight=\"bold\" font-size=\"14.00\">0.874</text>\r\n<text text-anchor=\"start\" x=\"317.175\" y=\"-172.256\" font-family=\"Times New Roman,serif\" font-size=\"14.00\">88.83% of data</text>\r\n</g>\r\n<!-- split2&#45;&gt;split3 -->\r\n<g id=\"edge3\" class=\"edge\"><title>split2&#45;&gt;split3</title>\r\n<path fill=\"none\" stroke=\"black\" d=\"M252.163,-150.456C267.05,-154.908 283.51,-159.83 298.965,-164.451\"/>\r\n<polygon fill=\"black\" stroke=\"black\" points=\"298.366,-167.925 308.949,-167.437 300.371,-161.219 298.366,-167.925\"/>\r\n<text text-anchor=\"middle\" x=\"272.5\" y=\"-163.256\" font-family=\"Times New Roman,serif\" font-size=\"14.00\">yes</text>\r\n</g>\r\n<!-- leaf3 -->\r\n<g id=\"node6\" class=\"node\"><title>leaf3</title>\r\n<ellipse fill=\"none\" stroke=\"black\" cx=\"360.175\" cy=\"-135.456\" rx=\"67.3507\" ry=\"25.4118\"/>\r\n<text text-anchor=\"start\" x=\"322.175\" y=\"-139.256\" font-family=\"Times New Roman,serif\" font-size=\"14.00\">leaf 3: </text>\r\n<text text-anchor=\"start\" x=\"359.175\" y=\"-139.256\" font-family=\"Times New Roman,serif\" font-weight=\"bold\" font-size=\"14.00\">&#45;0.006</text>\r\n<text text-anchor=\"start\" x=\"320.675\" y=\"-125.256\" font-family=\"Times New Roman,serif\" font-size=\"14.00\">7.59% of data</text>\r\n</g>\r\n<!-- split2&#45;&gt;leaf3 -->\r\n<g id=\"edge4\" class=\"edge\"><title>split2&#45;&gt;leaf3</title>\r\n<path fill=\"none\" stroke=\"black\" d=\"M252.163,-135.456C261.866,-135.456 272.237,-135.456 282.562,-135.456\"/>\r\n<polygon fill=\"black\" stroke=\"black\" points=\"282.846,-138.956 292.846,-135.456 282.846,-131.956 282.846,-138.956\"/>\r\n<text text-anchor=\"middle\" x=\"272.5\" y=\"-139.256\" font-family=\"Times New Roman,serif\" font-size=\"14.00\">no</text>\r\n</g>\r\n<!-- leaf0 -->\r\n<g id=\"node4\" class=\"node\"><title>leaf0</title>\r\n<ellipse fill=\"none\" stroke=\"black\" cx=\"540.475\" cy=\"-210.456\" rx=\"72.25\" ry=\"25.4118\"/>\r\n<text text-anchor=\"start\" x=\"502.475\" y=\"-214.256\" font-family=\"Times New Roman,serif\" font-size=\"14.00\">leaf 0: </text>\r\n<text text-anchor=\"start\" x=\"539.475\" y=\"-214.256\" font-family=\"Times New Roman,serif\" font-weight=\"bold\" font-size=\"14.00\">&#45;0.002</text>\r\n<text text-anchor=\"start\" x=\"497.475\" y=\"-200.256\" font-family=\"Times New Roman,serif\" font-size=\"14.00\">33.73% of data</text>\r\n</g>\r\n<!-- split3&#45;&gt;leaf0 -->\r\n<g id=\"edge1\" class=\"edge\"><title>split3&#45;&gt;leaf0</title>\r\n<path fill=\"none\" stroke=\"black\" d=\"M411.316,-190.33C427.676,-192.899 446.218,-195.811 464.015,-198.606\"/>\r\n<polygon fill=\"black\" stroke=\"black\" points=\"463.963,-202.14 474.385,-200.234 465.049,-195.225 463.963,-202.14\"/>\r\n<text text-anchor=\"middle\" x=\"447.85\" y=\"-201.256\" font-family=\"Times New Roman,serif\" font-size=\"14.00\">yes</text>\r\n</g>\r\n<!-- leaf4 -->\r\n<g id=\"node5\" class=\"node\"><title>leaf4</title>\r\n<ellipse fill=\"none\" stroke=\"black\" cx=\"540.475\" cy=\"-155.456\" rx=\"72.25\" ry=\"25.4118\"/>\r\n<text text-anchor=\"start\" x=\"504.975\" y=\"-159.256\" font-family=\"Times New Roman,serif\" font-size=\"14.00\">leaf 4: </text>\r\n<text text-anchor=\"start\" x=\"541.975\" y=\"-159.256\" font-family=\"Times New Roman,serif\" font-weight=\"bold\" font-size=\"14.00\">0.002</text>\r\n<text text-anchor=\"start\" x=\"497.475\" y=\"-145.256\" font-family=\"Times New Roman,serif\" font-size=\"14.00\">55.10% of data</text>\r\n</g>\r\n<!-- split3&#45;&gt;leaf4 -->\r\n<g id=\"edge2\" class=\"edge\"><title>split3&#45;&gt;leaf4</title>\r\n<path fill=\"none\" stroke=\"black\" d=\"M411.316,-174.863C427.503,-172.412 445.828,-169.637 463.453,-166.968\"/>\r\n<polygon fill=\"black\" stroke=\"black\" points=\"464.365,-170.37 473.728,-165.412 463.316,-163.449 464.365,-170.37\"/>\r\n<text text-anchor=\"middle\" x=\"447.85\" y=\"-175.256\" font-family=\"Times New Roman,serif\" font-size=\"14.00\">no</text>\r\n</g>\r\n<!-- leaf1 -->\r\n<g id=\"node8\" class=\"node\"><title>leaf1</title>\r\n<ellipse fill=\"none\" stroke=\"black\" cx=\"360.175\" cy=\"-80.4558\" rx=\"67.3507\" ry=\"25.4118\"/>\r\n<text text-anchor=\"start\" x=\"324.675\" y=\"-84.2558\" font-family=\"Times New Roman,serif\" font-size=\"14.00\">leaf 1: </text>\r\n<text text-anchor=\"start\" x=\"361.675\" y=\"-84.2558\" font-family=\"Times New Roman,serif\" font-weight=\"bold\" font-size=\"14.00\">0.015</text>\r\n<text text-anchor=\"start\" x=\"320.675\" y=\"-70.2558\" font-family=\"Times New Roman,serif\" font-size=\"14.00\">2.56% of data</text>\r\n</g>\r\n<!-- split1&#45;&gt;leaf1 -->\r\n<g id=\"edge6\" class=\"edge\"><title>split1&#45;&gt;leaf1</title>\r\n<path fill=\"none\" stroke=\"black\" d=\"M248.732,-80.4558C259.44,-80.4558 271.098,-80.4558 282.695,-80.4558\"/>\r\n<polygon fill=\"black\" stroke=\"black\" points=\"282.845,-83.9559 292.845,-80.4558 282.845,-76.9559 282.845,-83.9559\"/>\r\n<text text-anchor=\"middle\" x=\"272.5\" y=\"-84.2558\" font-family=\"Times New Roman,serif\" font-size=\"14.00\">yes</text>\r\n</g>\r\n<!-- leaf2 -->\r\n<g id=\"node9\" class=\"node\"><title>leaf2</title>\r\n<ellipse fill=\"none\" stroke=\"black\" cx=\"360.175\" cy=\"-25.4558\" rx=\"67.3507\" ry=\"25.4118\"/>\r\n<text text-anchor=\"start\" x=\"322.175\" y=\"-29.2558\" font-family=\"Times New Roman,serif\" font-size=\"14.00\">leaf 2: </text>\r\n<text text-anchor=\"start\" x=\"359.175\" y=\"-29.2558\" font-family=\"Times New Roman,serif\" font-weight=\"bold\" font-size=\"14.00\">&#45;0.007</text>\r\n<text text-anchor=\"start\" x=\"320.675\" y=\"-15.2558\" font-family=\"Times New Roman,serif\" font-size=\"14.00\">1.03% of data</text>\r\n</g>\r\n<!-- split1&#45;&gt;leaf2 -->\r\n<g id=\"edge7\" class=\"edge\"><title>split1&#45;&gt;leaf2</title>\r\n<path fill=\"none\" stroke=\"black\" d=\"M248.732,-64.1029C264.92,-58.4384 283.279,-52.0142 300.315,-46.0528\"/>\r\n<polygon fill=\"black\" stroke=\"black\" points=\"301.883,-49.212 310.166,-42.6055 299.571,-42.6049 301.883,-49.212\"/>\r\n<text text-anchor=\"middle\" x=\"272.5\" y=\"-62.2558\" font-family=\"Times New Roman,serif\" font-size=\"14.00\">no</text>\r\n</g>\r\n</g>\r\n</svg>\r\n",
          "text/plain": "<graphviz.dot.Digraph at 0x1e70dc76dd8>"
         },
         "metadata": {},
         "output_type": "display_data"
        }
       ]
      }
     },
     "73f4e9a4456144c98331637f2bb55cf4": {
      "model_module": "@jupyter-widgets/base",
      "model_module_version": "1.1.0",
      "model_name": "LayoutModel",
      "state": {}
     },
     "74fe3988be8c461caa946a5194e018fc": {
      "model_module": "@jupyter-widgets/controls",
      "model_module_version": "1.4.0",
      "model_name": "IntSliderModel",
      "state": {
       "description": "max_features",
       "layout": "IPY_MODEL_d4d7d6f4641b4f8baedbd265b660075d",
       "max": 28,
       "min": 1,
       "style": "IPY_MODEL_d8e49e1b69ec4533b845e387c8f1bd32",
       "value": 10
      }
     },
     "761ebb9cd857488b95c186ac3be666bc": {
      "model_module": "@jupyter-widgets/controls",
      "model_module_version": "1.4.0",
      "model_name": "SliderStyleModel",
      "state": {
       "description_width": ""
      }
     },
     "7b7e03ec679d46b1948f55dc3d7a12c5": {
      "model_module": "@jupyter-widgets/base",
      "model_module_version": "1.1.0",
      "model_name": "LayoutModel",
      "state": {}
     },
     "7bead5220c9341de8ec8cbb84df366ef": {
      "model_module": "@jupyter-widgets/controls",
      "model_module_version": "1.4.0",
      "model_name": "IntSliderModel",
      "state": {
       "description": "tree_index",
       "layout": "IPY_MODEL_7b7e03ec679d46b1948f55dc3d7a12c5",
       "max": 99,
       "style": "IPY_MODEL_110111966e8349a5a928f769d4df343f",
       "value": 49
      }
     },
     "7c2c0ed77d5944e181dee5e66cb51144": {
      "model_module": "@jupyter-widgets/base",
      "model_module_version": "1.1.0",
      "model_name": "LayoutModel",
      "state": {}
     },
     "7d01fb76c5c34a1993131d1a18eacfb8": {
      "model_module": "@jupyter-widgets/output",
      "model_module_version": "1.0.0",
      "model_name": "OutputModel",
      "state": {
       "layout": "IPY_MODEL_d4334566e5b84ccdb1041bd21b704078",
       "outputs": [
        {
         "data": {
          "image/png": "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\n",
          "text/plain": "<Figure size 720x360 with 1 Axes>"
         },
         "metadata": {
          "needs_background": "light"
         },
         "output_type": "display_data"
        }
       ]
      }
     },
     "7d198e35ee264415ab206fcce06e413b": {
      "model_module": "@jupyter-widgets/base",
      "model_module_version": "1.1.0",
      "model_name": "LayoutModel",
      "state": {}
     },
     "7d5c05cedb524025a91a3d82f6e96352": {
      "model_module": "@jupyter-widgets/output",
      "model_module_version": "1.0.0",
      "model_name": "OutputModel",
      "state": {
       "layout": "IPY_MODEL_c9153b495166445f8763aecb0523281e",
       "outputs": [
        {
         "ename": "ExecutableNotFound",
         "evalue": "failed to execute ['dot', '-Tsvg'], make sure the Graphviz executables are on your systems' PATH",
         "output_type": "error",
         "traceback": [
          "\u001b[1;31m---------------------------------------------------------------------------\u001b[0m",
          "\u001b[1;31mFileNotFoundError\u001b[0m                         Traceback (most recent call last)",
          "\u001b[1;32mD:\\ruanjian\\anconda\\1\\lib\\site-packages\\graphviz\\backend.py\u001b[0m in \u001b[0;36mrun\u001b[1;34m(cmd, input, capture_output, check, quiet, **kwargs)\u001b[0m\n\u001b[0;32m    158\u001b[0m     \u001b[1;32mtry\u001b[0m\u001b[1;33m:\u001b[0m\u001b[1;33m\u001b[0m\u001b[1;33m\u001b[0m\u001b[0m\n\u001b[1;32m--> 159\u001b[1;33m         \u001b[0mproc\u001b[0m \u001b[1;33m=\u001b[0m \u001b[0msubprocess\u001b[0m\u001b[1;33m.\u001b[0m\u001b[0mPopen\u001b[0m\u001b[1;33m(\u001b[0m\u001b[0mcmd\u001b[0m\u001b[1;33m,\u001b[0m \u001b[0mstartupinfo\u001b[0m\u001b[1;33m=\u001b[0m\u001b[0mget_startupinfo\u001b[0m\u001b[1;33m(\u001b[0m\u001b[1;33m)\u001b[0m\u001b[1;33m,\u001b[0m \u001b[1;33m**\u001b[0m\u001b[0mkwargs\u001b[0m\u001b[1;33m)\u001b[0m\u001b[1;33m\u001b[0m\u001b[1;33m\u001b[0m\u001b[0m\n\u001b[0m\u001b[0;32m    160\u001b[0m     \u001b[1;32mexcept\u001b[0m \u001b[0mOSError\u001b[0m \u001b[1;32mas\u001b[0m \u001b[0me\u001b[0m\u001b[1;33m:\u001b[0m\u001b[1;33m\u001b[0m\u001b[1;33m\u001b[0m\u001b[0m\n",
          "\u001b[1;32mD:\\ruanjian\\anconda\\1\\lib\\subprocess.py\u001b[0m in \u001b[0;36m__init__\u001b[1;34m(self, args, bufsize, executable, stdin, stdout, stderr, preexec_fn, close_fds, shell, cwd, env, universal_newlines, startupinfo, creationflags, restore_signals, start_new_session, pass_fds, encoding, errors, text)\u001b[0m\n\u001b[0;32m    774\u001b[0m                                 \u001b[0merrread\u001b[0m\u001b[1;33m,\u001b[0m \u001b[0merrwrite\u001b[0m\u001b[1;33m,\u001b[0m\u001b[1;33m\u001b[0m\u001b[1;33m\u001b[0m\u001b[0m\n\u001b[1;32m--> 775\u001b[1;33m                                 restore_signals, start_new_session)\n\u001b[0m\u001b[0;32m    776\u001b[0m         \u001b[1;32mexcept\u001b[0m\u001b[1;33m:\u001b[0m\u001b[1;33m\u001b[0m\u001b[1;33m\u001b[0m\u001b[0m\n",
          "\u001b[1;32mD:\\ruanjian\\anconda\\1\\lib\\subprocess.py\u001b[0m in \u001b[0;36m_execute_child\u001b[1;34m(self, args, executable, preexec_fn, close_fds, pass_fds, cwd, env, startupinfo, creationflags, shell, p2cread, p2cwrite, c2pread, c2pwrite, errread, errwrite, unused_restore_signals, unused_start_new_session)\u001b[0m\n\u001b[0;32m   1177\u001b[0m                                          \u001b[0mos\u001b[0m\u001b[1;33m.\u001b[0m\u001b[0mfspath\u001b[0m\u001b[1;33m(\u001b[0m\u001b[0mcwd\u001b[0m\u001b[1;33m)\u001b[0m \u001b[1;32mif\u001b[0m \u001b[0mcwd\u001b[0m \u001b[1;32mis\u001b[0m \u001b[1;32mnot\u001b[0m \u001b[1;32mNone\u001b[0m \u001b[1;32melse\u001b[0m \u001b[1;32mNone\u001b[0m\u001b[1;33m,\u001b[0m\u001b[1;33m\u001b[0m\u001b[1;33m\u001b[0m\u001b[0m\n\u001b[1;32m-> 1178\u001b[1;33m                                          startupinfo)\n\u001b[0m\u001b[0;32m   1179\u001b[0m             \u001b[1;32mfinally\u001b[0m\u001b[1;33m:\u001b[0m\u001b[1;33m\u001b[0m\u001b[1;33m\u001b[0m\u001b[0m\n",
          "\u001b[1;31mFileNotFoundError\u001b[0m: [WinError 2] 系统找不到指定的文件。",
          "\nDuring handling of the above exception, another exception occurred:\n",
          "\u001b[1;31mExecutableNotFound\u001b[0m                        Traceback (most recent call last)",
          "\u001b[1;32mD:\\ruanjian\\anconda\\1\\lib\\site-packages\\IPython\\core\\formatters.py\u001b[0m in \u001b[0;36m__call__\u001b[1;34m(self, obj)\u001b[0m\n\u001b[0;32m    343\u001b[0m             \u001b[0mmethod\u001b[0m \u001b[1;33m=\u001b[0m \u001b[0mget_real_method\u001b[0m\u001b[1;33m(\u001b[0m\u001b[0mobj\u001b[0m\u001b[1;33m,\u001b[0m \u001b[0mself\u001b[0m\u001b[1;33m.\u001b[0m\u001b[0mprint_method\u001b[0m\u001b[1;33m)\u001b[0m\u001b[1;33m\u001b[0m\u001b[1;33m\u001b[0m\u001b[0m\n\u001b[0;32m    344\u001b[0m             \u001b[1;32mif\u001b[0m \u001b[0mmethod\u001b[0m \u001b[1;32mis\u001b[0m \u001b[1;32mnot\u001b[0m \u001b[1;32mNone\u001b[0m\u001b[1;33m:\u001b[0m\u001b[1;33m\u001b[0m\u001b[1;33m\u001b[0m\u001b[0m\n\u001b[1;32m--> 345\u001b[1;33m                 \u001b[1;32mreturn\u001b[0m \u001b[0mmethod\u001b[0m\u001b[1;33m(\u001b[0m\u001b[1;33m)\u001b[0m\u001b[1;33m\u001b[0m\u001b[1;33m\u001b[0m\u001b[0m\n\u001b[0m\u001b[0;32m    346\u001b[0m             \u001b[1;32mreturn\u001b[0m \u001b[1;32mNone\u001b[0m\u001b[1;33m\u001b[0m\u001b[1;33m\u001b[0m\u001b[0m\n\u001b[0;32m    347\u001b[0m         \u001b[1;32melse\u001b[0m\u001b[1;33m:\u001b[0m\u001b[1;33m\u001b[0m\u001b[1;33m\u001b[0m\u001b[0m\n",
          "\u001b[1;32mD:\\ruanjian\\anconda\\1\\lib\\site-packages\\graphviz\\files.py\u001b[0m in \u001b[0;36m_repr_svg_\u001b[1;34m(self)\u001b[0m\n\u001b[0;32m    111\u001b[0m \u001b[1;33m\u001b[0m\u001b[0m\n\u001b[0;32m    112\u001b[0m     \u001b[1;32mdef\u001b[0m \u001b[0m_repr_svg_\u001b[0m\u001b[1;33m(\u001b[0m\u001b[0mself\u001b[0m\u001b[1;33m)\u001b[0m\u001b[1;33m:\u001b[0m\u001b[1;33m\u001b[0m\u001b[1;33m\u001b[0m\u001b[0m\n\u001b[1;32m--> 113\u001b[1;33m         \u001b[1;32mreturn\u001b[0m \u001b[0mself\u001b[0m\u001b[1;33m.\u001b[0m\u001b[0mpipe\u001b[0m\u001b[1;33m(\u001b[0m\u001b[0mformat\u001b[0m\u001b[1;33m=\u001b[0m\u001b[1;34m'svg'\u001b[0m\u001b[1;33m)\u001b[0m\u001b[1;33m.\u001b[0m\u001b[0mdecode\u001b[0m\u001b[1;33m(\u001b[0m\u001b[0mself\u001b[0m\u001b[1;33m.\u001b[0m\u001b[0m_encoding\u001b[0m\u001b[1;33m)\u001b[0m\u001b[1;33m\u001b[0m\u001b[1;33m\u001b[0m\u001b[0m\n\u001b[0m\u001b[0;32m    114\u001b[0m \u001b[1;33m\u001b[0m\u001b[0m\n\u001b[0;32m    115\u001b[0m     \u001b[1;32mdef\u001b[0m \u001b[0mpipe\u001b[0m\u001b[1;33m(\u001b[0m\u001b[0mself\u001b[0m\u001b[1;33m,\u001b[0m \u001b[0mformat\u001b[0m\u001b[1;33m=\u001b[0m\u001b[1;32mNone\u001b[0m\u001b[1;33m,\u001b[0m \u001b[0mrenderer\u001b[0m\u001b[1;33m=\u001b[0m\u001b[1;32mNone\u001b[0m\u001b[1;33m,\u001b[0m \u001b[0mformatter\u001b[0m\u001b[1;33m=\u001b[0m\u001b[1;32mNone\u001b[0m\u001b[1;33m,\u001b[0m \u001b[0mquiet\u001b[0m\u001b[1;33m=\u001b[0m\u001b[1;32mFalse\u001b[0m\u001b[1;33m)\u001b[0m\u001b[1;33m:\u001b[0m\u001b[1;33m\u001b[0m\u001b[1;33m\u001b[0m\u001b[0m\n",
          "\u001b[1;32mD:\\ruanjian\\anconda\\1\\lib\\site-packages\\graphviz\\files.py\u001b[0m in \u001b[0;36mpipe\u001b[1;34m(self, format, renderer, formatter, quiet)\u001b[0m\n\u001b[0;32m    136\u001b[0m         out = backend.pipe(self._engine, format, data,\n\u001b[0;32m    137\u001b[0m                            \u001b[0mrenderer\u001b[0m\u001b[1;33m=\u001b[0m\u001b[0mrenderer\u001b[0m\u001b[1;33m,\u001b[0m \u001b[0mformatter\u001b[0m\u001b[1;33m=\u001b[0m\u001b[0mformatter\u001b[0m\u001b[1;33m,\u001b[0m\u001b[1;33m\u001b[0m\u001b[1;33m\u001b[0m\u001b[0m\n\u001b[1;32m--> 138\u001b[1;33m                            quiet=quiet)\n\u001b[0m\u001b[0;32m    139\u001b[0m \u001b[1;33m\u001b[0m\u001b[0m\n\u001b[0;32m    140\u001b[0m         \u001b[1;32mreturn\u001b[0m \u001b[0mout\u001b[0m\u001b[1;33m\u001b[0m\u001b[1;33m\u001b[0m\u001b[0m\n",
          "\u001b[1;32mD:\\ruanjian\\anconda\\1\\lib\\site-packages\\graphviz\\backend.py\u001b[0m in \u001b[0;36mpipe\u001b[1;34m(engine, format, data, renderer, formatter, quiet)\u001b[0m\n\u001b[0;32m    227\u001b[0m     \"\"\"\n\u001b[0;32m    228\u001b[0m     \u001b[0mcmd\u001b[0m\u001b[1;33m,\u001b[0m \u001b[0m_\u001b[0m \u001b[1;33m=\u001b[0m \u001b[0mcommand\u001b[0m\u001b[1;33m(\u001b[0m\u001b[0mengine\u001b[0m\u001b[1;33m,\u001b[0m \u001b[0mformat\u001b[0m\u001b[1;33m,\u001b[0m \u001b[1;32mNone\u001b[0m\u001b[1;33m,\u001b[0m \u001b[0mrenderer\u001b[0m\u001b[1;33m,\u001b[0m \u001b[0mformatter\u001b[0m\u001b[1;33m)\u001b[0m\u001b[1;33m\u001b[0m\u001b[1;33m\u001b[0m\u001b[0m\n\u001b[1;32m--> 229\u001b[1;33m     \u001b[0mout\u001b[0m\u001b[1;33m,\u001b[0m \u001b[0m_\u001b[0m \u001b[1;33m=\u001b[0m \u001b[0mrun\u001b[0m\u001b[1;33m(\u001b[0m\u001b[0mcmd\u001b[0m\u001b[1;33m,\u001b[0m \u001b[0minput\u001b[0m\u001b[1;33m=\u001b[0m\u001b[0mdata\u001b[0m\u001b[1;33m,\u001b[0m \u001b[0mcapture_output\u001b[0m\u001b[1;33m=\u001b[0m\u001b[1;32mTrue\u001b[0m\u001b[1;33m,\u001b[0m \u001b[0mcheck\u001b[0m\u001b[1;33m=\u001b[0m\u001b[1;32mTrue\u001b[0m\u001b[1;33m,\u001b[0m \u001b[0mquiet\u001b[0m\u001b[1;33m=\u001b[0m\u001b[0mquiet\u001b[0m\u001b[1;33m)\u001b[0m\u001b[1;33m\u001b[0m\u001b[1;33m\u001b[0m\u001b[0m\n\u001b[0m\u001b[0;32m    230\u001b[0m     \u001b[1;32mreturn\u001b[0m \u001b[0mout\u001b[0m\u001b[1;33m\u001b[0m\u001b[1;33m\u001b[0m\u001b[0m\n\u001b[0;32m    231\u001b[0m \u001b[1;33m\u001b[0m\u001b[0m\n",
          "\u001b[1;32mD:\\ruanjian\\anconda\\1\\lib\\site-packages\\graphviz\\backend.py\u001b[0m in \u001b[0;36mrun\u001b[1;34m(cmd, input, capture_output, check, quiet, **kwargs)\u001b[0m\n\u001b[0;32m    160\u001b[0m     \u001b[1;32mexcept\u001b[0m \u001b[0mOSError\u001b[0m \u001b[1;32mas\u001b[0m \u001b[0me\u001b[0m\u001b[1;33m:\u001b[0m\u001b[1;33m\u001b[0m\u001b[1;33m\u001b[0m\u001b[0m\n\u001b[0;32m    161\u001b[0m         \u001b[1;32mif\u001b[0m \u001b[0me\u001b[0m\u001b[1;33m.\u001b[0m\u001b[0merrno\u001b[0m \u001b[1;33m==\u001b[0m \u001b[0merrno\u001b[0m\u001b[1;33m.\u001b[0m\u001b[0mENOENT\u001b[0m\u001b[1;33m:\u001b[0m\u001b[1;33m\u001b[0m\u001b[1;33m\u001b[0m\u001b[0m\n\u001b[1;32m--> 162\u001b[1;33m             \u001b[1;32mraise\u001b[0m \u001b[0mExecutableNotFound\u001b[0m\u001b[1;33m(\u001b[0m\u001b[0mcmd\u001b[0m\u001b[1;33m)\u001b[0m\u001b[1;33m\u001b[0m\u001b[1;33m\u001b[0m\u001b[0m\n\u001b[0m\u001b[0;32m    163\u001b[0m         \u001b[1;32melse\u001b[0m\u001b[1;33m:\u001b[0m\u001b[1;33m\u001b[0m\u001b[1;33m\u001b[0m\u001b[0m\n\u001b[0;32m    164\u001b[0m             \u001b[1;32mraise\u001b[0m\u001b[1;33m\u001b[0m\u001b[1;33m\u001b[0m\u001b[0m\n",
          "\u001b[1;31mExecutableNotFound\u001b[0m: failed to execute ['dot', '-Tsvg'], make sure the Graphviz executables are on your systems' PATH"
         ]
        },
        {
         "data": {
          "text/plain": "<graphviz.dot.Digraph at 0x19946a2b7f0>"
         },
         "metadata": {},
         "output_type": "display_data"
        }
       ]
      }
     },
     "815c716787ce425a83118eb1f606ac94": {
      "model_module": "@jupyter-widgets/output",
      "model_module_version": "1.0.0",
      "model_name": "OutputModel",
      "state": {
       "layout": "IPY_MODEL_da3a5a4ccb3542b9b73a3ee65ea1028a",
       "outputs": [
        {
         "data": {
          "image/png": "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\n",
          "text/plain": "<Figure size 720x360 with 1 Axes>"
         },
         "metadata": {
          "needs_background": "light"
         },
         "output_type": "display_data"
        }
       ]
      }
     },
     "81a68c62bfbb437aa944844d6f6b8e6f": {
      "model_module": "@jupyter-widgets/base",
      "model_module_version": "1.1.0",
      "model_name": "LayoutModel",
      "state": {}
     },
     "81dcdd9551d24a60a3a4fafcb83404ae": {
      "model_module": "@jupyter-widgets/controls",
      "model_module_version": "1.4.0",
      "model_name": "VBoxModel",
      "state": {
       "_dom_classes": [
        "widget-interact"
       ],
       "children": [
        "IPY_MODEL_7bead5220c9341de8ec8cbb84df366ef",
        "IPY_MODEL_81f29f86d90a436cb93313e436804fb8",
        "IPY_MODEL_85d54787692a4810861c760b019535d7",
        "IPY_MODEL_72cc9cae2ea04901a07790a160b2e2fa"
       ],
       "layout": "IPY_MODEL_5d7120c274f64a3f9839ac38d3111714"
      }
     },
     "81f29f86d90a436cb93313e436804fb8": {
      "model_module": "@jupyter-widgets/controls",
      "model_module_version": "1.4.0",
      "model_name": "SelectMultipleModel",
      "state": {
       "_options_labels": [
        "None",
        "split_gain",
        "internal_value",
        "internal_count",
        "internal_weight",
        "leaf_count",
        "leaf_weight",
        "data_percentage"
       ],
       "description": "show_info",
       "index": [
        7
       ],
       "layout": "IPY_MODEL_250ff33275a2457d9d4601423fa6a272",
       "rows": 5,
       "style": "IPY_MODEL_af59eafc46c342e2818e0e8563384efd"
      }
     },
     "84413144d2d843c69fa5376e4c5272b9": {
      "model_module": "@jupyter-widgets/controls",
      "model_module_version": "1.4.0",
      "model_name": "VBoxModel",
      "state": {
       "_dom_classes": [
        "widget-interact"
       ],
       "children": [
        "IPY_MODEL_fc6a8ab0b3a747b1b455e4f2a45c65be",
        "IPY_MODEL_815c716787ce425a83118eb1f606ac94"
       ],
       "layout": "IPY_MODEL_adac0be135444a9580b39c33122f0ccc"
      }
     },
     "85d54787692a4810861c760b019535d7": {
      "model_module": "@jupyter-widgets/controls",
      "model_module_version": "1.4.0",
      "model_name": "IntSliderModel",
      "state": {
       "description": "precision",
       "layout": "IPY_MODEL_14fc41730e594e89a93fd91706daef87",
       "max": 10,
       "style": "IPY_MODEL_af05e3f46d1145daa5c7c45af4eefe1b",
       "value": 3
      }
     },
     "8b14c5d5fcae474e8ff97e436d6629d4": {
      "model_module": "@jupyter-widgets/base",
      "model_module_version": "1.1.0",
      "model_name": "LayoutModel",
      "state": {}
     },
     "91836f80a1b9436eaf37bda2d4046572": {
      "model_module": "@jupyter-widgets/base",
      "model_module_version": "1.1.0",
      "model_name": "LayoutModel",
      "state": {}
     },
     "93616a393e7c4b0a866a47a5780debcc": {
      "model_module": "@jupyter-widgets/controls",
      "model_module_version": "1.4.0",
      "model_name": "IntSliderModel",
      "state": {
       "description": "precision",
       "layout": "IPY_MODEL_1574545d487245ef9861e4304e973600",
       "max": 10,
       "style": "IPY_MODEL_0ae95f6459474600a30110abfd608049",
       "value": 3
      }
     },
     "9c745b4dc4b246a38ca10095b520eb7a": {
      "model_module": "@jupyter-widgets/controls",
      "model_module_version": "1.4.0",
      "model_name": "DropdownModel",
      "state": {
       "_options_labels": [
        "f1",
        "f2",
        "f3",
        "f4",
        "f5",
        "f6",
        "f7",
        "f8",
        "f9",
        "f10",
        "f11",
        "f12",
        "f13",
        "f14",
        "f15",
        "f16",
        "f17",
        "f18",
        "f19",
        "f20",
        "f21",
        "f22",
        "f23",
        "f24",
        "f25",
        "f26",
        "f27",
        "f28"
       ],
       "description": "feature",
       "index": 0,
       "layout": "IPY_MODEL_cc8bf65b68ea4306b68b461c2684dbe3",
       "style": "IPY_MODEL_b0b03926c0eb48c19e0d04915ce706f3"
      }
     },
     "9f1604d2cea34af49282bcecc258ff3e": {
      "model_module": "@jupyter-widgets/base",
      "model_module_version": "1.1.0",
      "model_name": "LayoutModel",
      "state": {}
     },
     "a01ef6b8fa19416fa843e2e8713fe6b1": {
      "model_module": "@jupyter-widgets/controls",
      "model_module_version": "1.4.0",
      "model_name": "VBoxModel",
      "state": {
       "_dom_classes": [
        "widget-interact"
       ],
       "children": [
        "IPY_MODEL_589caa36ac894752bd963f10992842f7",
        "IPY_MODEL_c425aadc02094afba12114bf05e46b9b",
        "IPY_MODEL_dc2300f8acbd4bc381213abbd60b00ae",
        "IPY_MODEL_3df124d0341045509dc321711ab632bb"
       ],
       "layout": "IPY_MODEL_a557bcef628e497cbf436463f62660f1"
      }
     },
     "a53a9ea52cb044da83e7634e02459fb4": {
      "model_module": "@jupyter-widgets/controls",
      "model_module_version": "1.4.0",
      "model_name": "SelectMultipleModel",
      "state": {
       "_options_labels": [
        "None",
        "split_gain",
        "internal_value",
        "internal_count",
        "internal_weight",
        "leaf_count",
        "leaf_weight",
        "data_percentage"
       ],
       "description": "show_info",
       "index": [
        0
       ],
       "layout": "IPY_MODEL_8b14c5d5fcae474e8ff97e436d6629d4",
       "rows": 5,
       "style": "IPY_MODEL_69a29fa265f34a67b5ec833d5d373f29"
      }
     },
     "a557bcef628e497cbf436463f62660f1": {
      "model_module": "@jupyter-widgets/base",
      "model_module_version": "1.1.0",
      "model_name": "LayoutModel",
      "state": {}
     },
     "adac0be135444a9580b39c33122f0ccc": {
      "model_module": "@jupyter-widgets/base",
      "model_module_version": "1.1.0",
      "model_name": "LayoutModel",
      "state": {}
     },
     "adeef64dccde4546acf4b5dc709e2308": {
      "model_module": "@jupyter-widgets/base",
      "model_module_version": "1.1.0",
      "model_name": "LayoutModel",
      "state": {}
     },
     "af059286b6424bcbb6e379616aac78f2": {
      "model_module": "@jupyter-widgets/controls",
      "model_module_version": "1.4.0",
      "model_name": "VBoxModel",
      "state": {
       "_dom_classes": [
        "widget-interact"
       ],
       "children": [
        "IPY_MODEL_5ae0a1fe2d704fe689fce1620ad03a0a",
        "IPY_MODEL_a53a9ea52cb044da83e7634e02459fb4",
        "IPY_MODEL_93616a393e7c4b0a866a47a5780debcc",
        "IPY_MODEL_7d5c05cedb524025a91a3d82f6e96352"
       ],
       "layout": "IPY_MODEL_ee3bc017b6c84796a278f592887f66af"
      }
     },
     "af05e3f46d1145daa5c7c45af4eefe1b": {
      "model_module": "@jupyter-widgets/controls",
      "model_module_version": "1.4.0",
      "model_name": "SliderStyleModel",
      "state": {
       "description_width": ""
      }
     },
     "af59eafc46c342e2818e0e8563384efd": {
      "model_module": "@jupyter-widgets/controls",
      "model_module_version": "1.4.0",
      "model_name": "DescriptionStyleModel",
      "state": {
       "description_width": ""
      }
     },
     "af894fb026ef4ea4a4cc01fe08b00739": {
      "model_module": "@jupyter-widgets/controls",
      "model_module_version": "1.4.0",
      "model_name": "SliderStyleModel",
      "state": {
       "description_width": ""
      }
     },
     "b0b03926c0eb48c19e0d04915ce706f3": {
      "model_module": "@jupyter-widgets/controls",
      "model_module_version": "1.4.0",
      "model_name": "DescriptionStyleModel",
      "state": {
       "description_width": ""
      }
     },
     "b269cebecf2c464f9ccb496e83918901": {
      "model_module": "@jupyter-widgets/base",
      "model_module_version": "1.1.0",
      "model_name": "LayoutModel",
      "state": {}
     },
     "b6107c638a8547529a7cd9dedd8f229a": {
      "model_module": "@jupyter-widgets/controls",
      "model_module_version": "1.4.0",
      "model_name": "SliderStyleModel",
      "state": {
       "description_width": ""
      }
     },
     "b6eaee9708df47be8cf156ecd4019732": {
      "model_module": "@jupyter-widgets/base",
      "model_module_version": "1.1.0",
      "model_name": "LayoutModel",
      "state": {}
     },
     "bd18a6fe491240e2965c3b312620eb01": {
      "model_module": "@jupyter-widgets/controls",
      "model_module_version": "1.4.0",
      "model_name": "IntSliderModel",
      "state": {
       "description": "precision",
       "layout": "IPY_MODEL_c40db294f37e4a6e8000accddf19cb34",
       "max": 10,
       "style": "IPY_MODEL_22ab065346ce4539903d0297916e86c1",
       "value": 2
      }
     },
     "be474dfb5edc4d9397e008387428f6b1": {
      "model_module": "@jupyter-widgets/controls",
      "model_module_version": "1.4.0",
      "model_name": "SliderStyleModel",
      "state": {
       "description_width": ""
      }
     },
     "c02113c9445741fc809bfa211484c013": {
      "model_module": "@jupyter-widgets/base",
      "model_module_version": "1.1.0",
      "model_name": "LayoutModel",
      "state": {}
     },
     "c135679ad0414b53bb0b8ae121f9ff1c": {
      "model_module": "@jupyter-widgets/controls",
      "model_module_version": "1.4.0",
      "model_name": "DescriptionStyleModel",
      "state": {
       "description_width": ""
      }
     },
     "c2a76b2c94a24c388ea57a30488ab88f": {
      "model_module": "@jupyter-widgets/base",
      "model_module_version": "1.1.0",
      "model_name": "LayoutModel",
      "state": {}
     },
     "c40db294f37e4a6e8000accddf19cb34": {
      "model_module": "@jupyter-widgets/base",
      "model_module_version": "1.1.0",
      "model_name": "LayoutModel",
      "state": {}
     },
     "c41c271db4a14d0685ff3ead3bb08ef8": {
      "model_module": "@jupyter-widgets/output",
      "model_module_version": "1.0.0",
      "model_name": "OutputModel",
      "state": {
       "layout": "IPY_MODEL_fdf09daa41394c2fb4382e1b16e73a77",
       "outputs": [
        {
         "data": {
          "image/png": "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\n",
          "text/plain": "<Figure size 720x360 with 1 Axes>"
         },
         "metadata": {
          "needs_background": "light"
         },
         "output_type": "display_data"
        }
       ]
      }
     },
     "c425aadc02094afba12114bf05e46b9b": {
      "model_module": "@jupyter-widgets/controls",
      "model_module_version": "1.4.0",
      "model_name": "SelectMultipleModel",
      "state": {
       "_options_labels": [
        "None",
        "split_gain",
        "internal_value",
        "internal_count",
        "internal_weight",
        "leaf_count",
        "leaf_weight",
        "data_percentage"
       ],
       "description": "show_info",
       "index": [
        0
       ],
       "layout": "IPY_MODEL_d1e26911c2764a4da2dc1f669443bb47",
       "rows": 5,
       "style": "IPY_MODEL_c6e5fe30200b44ac87587045d32d84c3"
      }
     },
     "c6e5fe30200b44ac87587045d32d84c3": {
      "model_module": "@jupyter-widgets/controls",
      "model_module_version": "1.4.0",
      "model_name": "DescriptionStyleModel",
      "state": {
       "description_width": ""
      }
     },
     "c7b1cdbb6ed84015bd5809ac7a92ae2e": {
      "model_module": "@jupyter-widgets/controls",
      "model_module_version": "1.4.0",
      "model_name": "DescriptionStyleModel",
      "state": {
       "description_width": ""
      }
     },
     "c82eac8c3c184320961df65f4d46932f": {
      "model_module": "@jupyter-widgets/base",
      "model_module_version": "1.1.0",
      "model_name": "LayoutModel",
      "state": {}
     },
     "c9153b495166445f8763aecb0523281e": {
      "model_module": "@jupyter-widgets/base",
      "model_module_version": "1.1.0",
      "model_name": "LayoutModel",
      "state": {}
     },
     "cb2f9349f4614e05a470c65f9dfd5d8c": {
      "model_module": "@jupyter-widgets/controls",
      "model_module_version": "1.4.0",
      "model_name": "DescriptionStyleModel",
      "state": {
       "description_width": ""
      }
     },
     "cc8bf65b68ea4306b68b461c2684dbe3": {
      "model_module": "@jupyter-widgets/base",
      "model_module_version": "1.1.0",
      "model_name": "LayoutModel",
      "state": {}
     },
     "d1e26911c2764a4da2dc1f669443bb47": {
      "model_module": "@jupyter-widgets/base",
      "model_module_version": "1.1.0",
      "model_name": "LayoutModel",
      "state": {}
     },
     "d4334566e5b84ccdb1041bd21b704078": {
      "model_module": "@jupyter-widgets/base",
      "model_module_version": "1.1.0",
      "model_name": "LayoutModel",
      "state": {}
     },
     "d4d7d6f4641b4f8baedbd265b660075d": {
      "model_module": "@jupyter-widgets/base",
      "model_module_version": "1.1.0",
      "model_name": "LayoutModel",
      "state": {}
     },
     "d4e3373562fa4b82aaf0258192d9a7d3": {
      "model_module": "@jupyter-widgets/controls",
      "model_module_version": "1.4.0",
      "model_name": "VBoxModel",
      "state": {
       "_dom_classes": [
        "widget-interact"
       ],
       "children": [
        "IPY_MODEL_25f5ad4c24424a4091f29da706e7c856",
        "IPY_MODEL_7d01fb76c5c34a1993131d1a18eacfb8"
       ],
       "layout": "IPY_MODEL_b6eaee9708df47be8cf156ecd4019732"
      }
     },
     "d8e49e1b69ec4533b845e387c8f1bd32": {
      "model_module": "@jupyter-widgets/controls",
      "model_module_version": "1.4.0",
      "model_name": "SliderStyleModel",
      "state": {
       "description_width": ""
      }
     },
     "da3a5a4ccb3542b9b73a3ee65ea1028a": {
      "model_module": "@jupyter-widgets/base",
      "model_module_version": "1.1.0",
      "model_name": "LayoutModel",
      "state": {}
     },
     "dc2300f8acbd4bc381213abbd60b00ae": {
      "model_module": "@jupyter-widgets/controls",
      "model_module_version": "1.4.0",
      "model_name": "IntSliderModel",
      "state": {
       "description": "precision",
       "layout": "IPY_MODEL_c2a76b2c94a24c388ea57a30488ab88f",
       "max": 10,
       "style": "IPY_MODEL_761ebb9cd857488b95c186ac3be666bc",
       "value": 3
      }
     },
     "dee69762cded45c0b47e65d53eab8110": {
      "model_module": "@jupyter-widgets/base",
      "model_module_version": "1.1.0",
      "model_name": "LayoutModel",
      "state": {}
     },
     "e1002827e15f4574999c9753abe64cc9": {
      "model_module": "@jupyter-widgets/controls",
      "model_module_version": "1.4.0",
      "model_name": "CheckboxModel",
      "state": {
       "description": "ignore_zero",
       "disabled": false,
       "layout": "IPY_MODEL_1b89d7326f5f4d0f8a4c1c223addfcd2",
       "style": "IPY_MODEL_cb2f9349f4614e05a470c65f9dfd5d8c",
       "value": true
      }
     },
     "e626c638cbd746ef8a758ee9ab6e931c": {
      "model_module": "@jupyter-widgets/base",
      "model_module_version": "1.1.0",
      "model_name": "LayoutModel",
      "state": {}
     },
     "e69be101aba84abd9bb5b049c3b833fa": {
      "model_module": "@jupyter-widgets/controls",
      "model_module_version": "1.4.0",
      "model_name": "DescriptionStyleModel",
      "state": {
       "description_width": ""
      }
     },
     "eb03128cf5fb4aca9b67e54a86fe3141": {
      "model_module": "@jupyter-widgets/controls",
      "model_module_version": "1.4.0",
      "model_name": "VBoxModel",
      "state": {
       "_dom_classes": [
        "widget-interact"
       ],
       "children": [
        "IPY_MODEL_1c5b9c3728094cea98c05573a68c38be",
        "IPY_MODEL_43b8265f286d46a4b821fc4d53eaabc3",
        "IPY_MODEL_e1002827e15f4574999c9753abe64cc9",
        "IPY_MODEL_108b069b95424eeeb970028f84f09939",
        "IPY_MODEL_5665323d46da422fa843969f4a86c634"
       ],
       "layout": "IPY_MODEL_dee69762cded45c0b47e65d53eab8110"
      }
     },
     "ee3bc017b6c84796a278f592887f66af": {
      "model_module": "@jupyter-widgets/base",
      "model_module_version": "1.1.0",
      "model_name": "LayoutModel",
      "state": {}
     },
     "f73dc3ea98094219b55e4ae926084d9a": {
      "model_module": "@jupyter-widgets/controls",
      "model_module_version": "1.4.0",
      "model_name": "VBoxModel",
      "state": {
       "_dom_classes": [
        "widget-interact"
       ],
       "children": [
        "IPY_MODEL_36fab60997d444c494f815986497ac4f",
        "IPY_MODEL_74fe3988be8c461caa946a5194e018fc",
        "IPY_MODEL_47562d79edfe4b44809848b339cf991e",
        "IPY_MODEL_bd18a6fe491240e2965c3b312620eb01",
        "IPY_MODEL_3e0b78f3086e4bbcb5415340cb20b51c"
       ],
       "layout": "IPY_MODEL_7d198e35ee264415ab206fcce06e413b"
      }
     },
     "fa02ee583bb04e14970f493d50dda3ef": {
      "model_module": "@jupyter-widgets/base",
      "model_module_version": "1.1.0",
      "model_name": "LayoutModel",
      "state": {}
     },
     "fc6a8ab0b3a747b1b455e4f2a45c65be": {
      "model_module": "@jupyter-widgets/controls",
      "model_module_version": "1.4.0",
      "model_name": "DropdownModel",
      "state": {
       "_options_labels": [
        "l1",
        "l2"
       ],
       "description": "metric_name",
       "index": 0,
       "layout": "IPY_MODEL_fa02ee583bb04e14970f493d50dda3ef",
       "style": "IPY_MODEL_019d2623b8bc4f31afb0475470e07a24"
      }
     },
     "fdf09daa41394c2fb4382e1b16e73a77": {
      "model_module": "@jupyter-widgets/base",
      "model_module_version": "1.1.0",
      "model_name": "LayoutModel",
      "state": {}
     }
    },
    "version_major": 2,
    "version_minor": 0
   }
  }
 },
 "nbformat": 4,
 "nbformat_minor": 2
}
