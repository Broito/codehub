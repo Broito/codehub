{
 "cells": [
  {
   "cell_type": "code",
   "execution_count": 5,
   "metadata": {},
   "outputs": [
    {
     "ename": "ModuleNotFoundError",
     "evalue": "No module named 'model'",
     "output_type": "error",
     "traceback": [
      "\u001b[1;31m---------------------------------------------------------------------------\u001b[0m",
      "\u001b[1;31mModuleNotFoundError\u001b[0m                       Traceback (most recent call last)",
      "\u001b[1;32m<ipython-input-5-d6e5d4124327>\u001b[0m in \u001b[0;36m<module>\u001b[1;34m\u001b[0m\n\u001b[0;32m      4\u001b[0m \u001b[1;32mimport\u001b[0m \u001b[0mmatplotlib\u001b[0m\u001b[1;33m.\u001b[0m\u001b[0mpyplot\u001b[0m \u001b[1;32mas\u001b[0m \u001b[0mplt\u001b[0m\u001b[1;33m\u001b[0m\u001b[1;33m\u001b[0m\u001b[0m\n\u001b[0;32m      5\u001b[0m \u001b[1;33m\u001b[0m\u001b[0m\n\u001b[1;32m----> 6\u001b[1;33m \u001b[1;32mfrom\u001b[0m \u001b[0mmodel\u001b[0m \u001b[1;32mimport\u001b[0m \u001b[0mPSPNet101\u001b[0m\u001b[1;33m,\u001b[0m \u001b[0mPSPNet50\u001b[0m\u001b[1;33m\u001b[0m\u001b[1;33m\u001b[0m\u001b[0m\n\u001b[0m\u001b[0;32m      7\u001b[0m \u001b[1;32mfrom\u001b[0m \u001b[0mtools\u001b[0m \u001b[1;32mimport\u001b[0m \u001b[1;33m*\u001b[0m\u001b[1;33m\u001b[0m\u001b[1;33m\u001b[0m\u001b[0m\n",
      "\u001b[1;31mModuleNotFoundError\u001b[0m: No module named 'model'"
     ]
    }
   ],
   "source": [
    "import tensorflow as tf\n",
    "import numpy as np\n",
    "from scipy import misc\n",
    "import matplotlib.pyplot as plt\n",
    "\n",
    "from model import PSPNet101, PSPNet50\n",
    "from tools import *\n"
   ]
  },
  {
   "cell_type": "markdown",
   "metadata": {},
   "source": [
    "# Set up paths for Images and Weights"
   ]
  },
  {
   "cell_type": "code",
   "execution_count": null,
   "metadata": {},
   "outputs": [],
   "source": [
    "tf.reset_default_graph()\n",
    "# TODO: Change these values to where your model files are\n",
    "ADE20k_param = {'crop_size': [473, 473],\n",
    "                'num_classes': 150, \n",
    "                'model': PSPNet50,\n",
    "                'weights_path': './model/pspnet50-ade20k/model.ckpt-0'}\n",
    "cityscapes_param = {'crop_size': [720, 720],\n",
    "                    'num_classes': 19,\n",
    "                    'model': PSPNet101,\n",
    "                    'weights_path': './model/pspnet101-cityscapes/model.ckpt-0'}\n",
    "\n",
    "IMAGE_MEAN = np.array((103.939, 116.779, 123.68), dtype=np.float32)\n",
    "image_path = './test input/12.jpg'\n",
    "\n",
    "# TODO: If you want to inference on indoor data, change this value to `ADE20k_param`\n",
    "param = ADE20k_param"
   ]
  },
  {
   "cell_type": "markdown",
   "metadata": {},
   "source": [
    "# Preprocess Image & Create Network"
   ]
  },
  {
   "cell_type": "code",
   "execution_count": null,
   "metadata": {},
   "outputs": [],
   "source": [
    "# pre-proecess image\n",
    "img_np, filename = load_img(image_path)\n",
    "img_shape = tf.shape(img_np)\n",
    "h, w = (tf.maximum(param['crop_size'][0], img_shape[0]), tf.maximum(param['crop_size'][1], img_shape[1]))\n",
    "img = tf.to_float(preprocess(img_np, h, w))\n",
    "\n",
    "print(img_shape)"
   ]
  },
  {
   "cell_type": "code",
   "execution_count": null,
   "metadata": {},
   "outputs": [],
   "source": [
    "img_np, filename = load_img(image_path)\n",
    "img_np.shape"
   ]
  },
  {
   "cell_type": "code",
   "execution_count": null,
   "metadata": {},
   "outputs": [],
   "source": [
    "# Create network.\n",
    "PSPNet = param['model']\n",
    "net = PSPNet({'data': img}, is_training=False, num_classes=param['num_classes'])"
   ]
  },
  {
   "cell_type": "markdown",
   "metadata": {},
   "source": [
    "# Predict segmentation image"
   ]
  },
  {
   "cell_type": "code",
   "execution_count": null,
   "metadata": {},
   "outputs": [],
   "source": [
    "raw_output = net.layers['conv6']\n",
    "\n",
    "# Predictions.\n",
    "raw_output_up = tf.image.resize_bilinear(raw_output, size=[h, w], align_corners=True)\n",
    "raw_output_up = tf.image.crop_to_bounding_box(raw_output_up, 0, 0, img_shape[0], img_shape[1])\n",
    "raw_output_up = tf.argmax(raw_output_up, dimension=3)\n",
    "pred = decode_labels(raw_output_up, img_shape, param['num_classes'])\n",
    "\n",
    "# Init tf Session\n",
    "config = tf.ConfigProto()\n",
    "config.gpu_options.allow_growth = True\n",
    "sess = tf.Session(config=config)\n",
    "init = tf.global_variables_initializer()\n",
    "\n",
    "sess.run(init)\n",
    "\n",
    "ckpt_path = param['weights_path']\n",
    "loader = tf.train.Saver(var_list=tf.global_variables())\n",
    "loader.restore(sess, ckpt_path)\n",
    "print(\"Restored model parameters from {}\".format(ckpt_path))\n",
    "    \n",
    "# Run and get result image\n",
    "preds = sess.run(pred)"
   ]
  },
  {
   "cell_type": "code",
   "execution_count": null,
   "metadata": {
    "scrolled": true
   },
   "outputs": [],
   "source": [
    "import matplotlib.patches as mpatches\n",
    "plt.figure(1, [15, 30])\n",
    "plt.subplot(121)\n",
    "a_np=img_np.eval(session=sess)\n",
    "plt.imshow(a_np)\n",
    "plt.axis('off')\n",
    "plt.subplot(122)\n",
    "im = plt.imshow(preds[0]/255)\n",
    "plt.axis('off')\n",
    "\n",
    "\n",
    "plt.show()"
   ]
  },
  {
   "cell_type": "code",
   "execution_count": null,
   "metadata": {},
   "outputs": [],
   "source": [
    "\n",
    "a_np=pred.eval(session=sess)\n",
    "a_np.shape"
   ]
  },
  {
   "cell_type": "code",
   "execution_count": null,
   "metadata": {},
   "outputs": [],
   "source": [
    "a=np.unique(a_np.reshape(-1,3),axis = 0)\n",
    "len(a)\n",
    "a[1][1]"
   ]
  },
  {
   "cell_type": "markdown",
   "metadata": {},
   "source": [
    "# 建立颜色标签字典"
   ]
  },
  {
   "cell_type": "code",
   "execution_count": null,
   "metadata": {},
   "outputs": [],
   "source": [
    "import csv\n",
    "new_dict = {}\n",
    "with open('D:/ruanjian/streetview/Image Segmentation/PSPNet-tensorflow-master/test/color label 150(2).csv')as csv_file:\n",
    "    data = csv.reader(csv_file)\n",
    "    new_dict = {row[0]: row[1:] for row in data}\n",
    "\n",
    "new_dict\n"
   ]
  },
  {
   "cell_type": "code",
   "execution_count": null,
   "metadata": {},
   "outputs": [],
   "source": [
    "new_dict['120120120'][0]"
   ]
  },
  {
   "cell_type": "markdown",
   "metadata": {},
   "source": [
    "# 分割结果to_csv"
   ]
  },
  {
   "cell_type": "code",
   "execution_count": null,
   "metadata": {},
   "outputs": [],
   "source": [
    "al = image_path.split('_')\n",
    "data = [[al[2],al[3]]]\n",
    "adf = pd.DataFrame(columns=['Lat','Lon'])\n",
    "adf2= pd.DataFrame(data,columns=['Lat','Lon'])\n",
    "adf=adf.append(adf2,ignore_index=True)\n",
    "colours, counts = np.unique(a_np.reshape(-1,3), axis=0, return_counts=1)\n",
    "i=0\n",
    "for index, colour in enumerate(colours):\n",
    "        count = counts[index]\n",
    "        rgb = str(int(colour[0]*1000000+colour[1]*1000+colour[2]))\n",
    "        adf[new_dict[rgb][0]]=pd.Series([count])\n",
    "        #proportion = (100 * count) / (h * w)\n",
    "        #print(\"Colour:\",colour,\"count:\",count,'rgb:',rgb)\n",
    "adf.head()"
   ]
  },
  {
   "cell_type": "code",
   "execution_count": null,
   "metadata": {},
   "outputs": [],
   "source": [
    "adf.to_csv('D:/ruanjian/streetview/Image Segmentation/PSPNet-tensorflow-master/result_csv/last1.csv')"
   ]
  },
  {
   "cell_type": "code",
   "execution_count": null,
   "metadata": {},
   "outputs": [],
   "source": [
    "import pandas as pd\n",
    "df=pd.read_csv('D:/ruanjian/streetview/Image Segmentation/PSPNet-tensorflow-master/test/color labels.csv') \n",
    "df.head(10)"
   ]
  },
  {
   "cell_type": "code",
   "execution_count": null,
   "metadata": {},
   "outputs": [],
   "source": [
    "df=pd.read_csv('D:/ruanjian/streetview/Image Segmentation/PSPNet-tensorflow-master/result_csv/Merge90-0.csv') \n",
    "df.head()"
   ]
  },
  {
   "cell_type": "code",
   "execution_count": null,
   "metadata": {},
   "outputs": [],
   "source": [
    "df1=pd.read_csv('D:/ruanjian/streetview/Image Segmentation/PSPNet-tensorflow-master/result_csv/Merge270-0.csv') \n",
    "df1.head()"
   ]
  },
  {
   "cell_type": "markdown",
   "metadata": {},
   "source": [
    "# DataFrame两表相加"
   ]
  },
  {
   "cell_type": "code",
   "execution_count": null,
   "metadata": {},
   "outputs": [],
   "source": [
    "df2=df.add(df1,fill_value=0)\n",
    "df2.to_csv('D:/ruanjian/streetview/Image Segmentation/PSPNet-tensorflow-master/result_csv/Merge270+90.csv')"
   ]
  },
  {
   "cell_type": "markdown",
   "metadata": {},
   "source": [
    "# 两表融合（并集）"
   ]
  },
  {
   "cell_type": "code",
   "execution_count": null,
   "metadata": {},
   "outputs": [],
   "source": [
    "df=pd.read_csv('D:/ruanjian/streetview/Image Segmentation/PSPNet-tensorflow-master/result_csv/Merge90-NAN.csv') \n",
    "df3 = pd.concat([df, adf], axis=0,sort = True)\n",
    "df3.head()"
   ]
  },
  {
   "cell_type": "code",
   "execution_count": null,
   "metadata": {},
   "outputs": [],
   "source": [
    "al = image_path.split('_')\n",
    "al"
   ]
  },
  {
   "cell_type": "code",
   "execution_count": null,
   "metadata": {},
   "outputs": [],
   "source": [
    "error=[]\n",
    "error.append(al[2]+','+al[3])\n",
    "error"
   ]
  },
  {
   "cell_type": "code",
   "execution_count": null,
   "metadata": {},
   "outputs": [],
   "source": [
    "data = [[al[2],al[3]]]\n",
    "adf = pd.DataFrame(columns=['Lat','Lon'])\n",
    "adf2= pd.DataFrame(data,columns=['Lat','Lon'])\n",
    "adf=adf.append(adf2)\n",
    "#adf['102200']=pd.Series([27182])\n",
    "\n",
    "adf.head()"
   ]
  },
  {
   "cell_type": "code",
   "execution_count": null,
   "metadata": {},
   "outputs": [],
   "source": [
    "import imageio\n",
    "imageio.imwrite('./output/cn_31.2031940000_121.4824660000_90.jpg', preds[0])\n",
    "#misc.imsave('./output/cn_31.2031940000_121.4824660000.jpg', preds[0])"
   ]
  },
  {
   "cell_type": "code",
   "execution_count": null,
   "metadata": {},
   "outputs": [],
   "source": [
    "np.unique(a_np[:,:,:,:],axis=1).shape"
   ]
  },
  {
   "cell_type": "code",
   "execution_count": null,
   "metadata": {},
   "outputs": [],
   "source": [
    "values = np.unique(a_np.reshape(-1,3), axis=0)\n",
    "\n",
    "colors = [ im.cmap(im.norm(value)) for value in values]\n",
    "# create a patch (proxy artist) for every color \n",
    "patches = [ mpatches.Patch(color=colors[i], label=\"Level {l}\".format(l=values[i]) ) for i in range(len(values)) ]\n",
    "# put those patched as legend-handles into the legend\n",
    "plt.legend(handles=patches, bbox_to_anchor=(1.05, 1), loc=2, borderaxespad=0. )"
   ]
  },
  {
   "cell_type": "code",
   "execution_count": null,
   "metadata": {},
   "outputs": [],
   "source": []
  }
 ],
 "metadata": {
  "kernelspec": {
   "display_name": "Python 3",
   "language": "python",
   "name": "python3"
  },
  "language_info": {
   "codemirror_mode": {
    "name": "ipython",
    "version": 3
   },
   "file_extension": ".py",
   "mimetype": "text/x-python",
   "name": "python",
   "nbconvert_exporter": "python",
   "pygments_lexer": "ipython3",
   "version": "3.7.3"
  }
 },
 "nbformat": 4,
 "nbformat_minor": 2
}
